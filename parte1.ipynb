{
 "cells": [
  {
   "cell_type": "code",
   "execution_count": 1,
   "metadata": {
    "execution": {
     "iopub.execute_input": "2022-05-30T03:22:46.928858Z",
     "iopub.status.busy": "2022-05-30T03:22:46.927999Z",
     "iopub.status.idle": "2022-05-30T03:22:46.937117Z",
     "shell.execute_reply": "2022-05-30T03:22:46.936256Z",
     "shell.execute_reply.started": "2022-05-30T03:22:46.928807Z"
    },
    "jupyter": {
     "outputs_hidden": false
    },
    "pycharm": {
     "name": "#%%\n"
    }
   },
   "outputs": [],
   "source": [
    "import numpy as np \n",
    "import pandas as pd\n",
    "\n",
    "\n",
    "from nltk.corpus import stopwords\n",
    "from sklearn.preprocessing import LabelEncoder\n",
    "from sklearn.feature_extraction.text import CountVectorizer\n",
    "from sklearn.model_selection import train_test_split\n",
    "from sklearn.metrics import classification_report\n",
    "from sklearn.naive_bayes import MultinomialNB\n",
    "\n",
    "from sklearn.linear_model import LogisticRegression\n",
    "\n",
    "from sklearn import tree\n",
    "from sklearn.model_selection import RandomizedSearchCV\n",
    "from sklearn.ensemble import RandomForestClassifier "
   ]
  },
  {
   "cell_type": "code",
   "execution_count": 2,
   "metadata": {
    "execution": {
     "iopub.execute_input": "2022-05-30T03:22:46.990376Z",
     "iopub.status.busy": "2022-05-30T03:22:46.989631Z",
     "iopub.status.idle": "2022-05-30T03:22:46.995952Z",
     "shell.execute_reply": "2022-05-30T03:22:46.995064Z",
     "shell.execute_reply.started": "2022-05-30T03:22:46.990340Z"
    }
   },
   "outputs": [],
   "source": [
    "def read_data_from_csv(file_path: str) -> pd.DataFrame:\n",
    "    return pd.read_csv(file_path)"
   ]
  },
  {
   "cell_type": "code",
   "execution_count": 3,
   "metadata": {
    "execution": {
     "iopub.execute_input": "2022-05-30T04:20:50.919499Z",
     "iopub.status.busy": "2022-05-30T04:20:50.919082Z",
     "iopub.status.idle": "2022-05-30T04:20:50.972673Z",
     "shell.execute_reply": "2022-05-30T04:20:50.971027Z",
     "shell.execute_reply.started": "2022-05-30T04:20:50.919470Z"
    },
    "pycharm": {
     "name": "#%%\n"
    }
   },
   "outputs": [],
   "source": [
    "REVIEWS_DATASET_PATH = './datasets/Womens_Clothing_E-Commerce_Reviews.csv'\n",
    "reviews_dataset = read_data_from_csv(file_path=REVIEWS_DATASET_PATH)"
   ]
  },
  {
   "cell_type": "markdown",
   "metadata": {
    "pycharm": {
     "name": "#%% md\n"
    }
   },
   "source": [
    "## Resumen del dataset\n",
    "\n",
    "El dataset contiene 23486 filas, cada una correspondiente a una reseña con unas 10 columnas correspondiente a variables explicadas a continuación.\n",
    "### Descripción de cada columna\n",
    "\n",
    "| Columna  | Descripción  |\n",
    "|---|---|\n",
    "| Clothing ID | Identificador numérico de la prenda especificada en la crítica |\n",
    "| Age | Valor numérico correspondiente a la edad de la persona que realizo la crítica |\n",
    "| Title | Titulo o encabezado de la crítica |\n",
    "| Reviw Text | Contenido de la reseña realizada |\n",
    "| Rating | Valor numérico en el rango del 1 al 5, siendo el 1 representante de máxima inconformidad y el 5 correspondiente al mejor valor posible |\n",
    "| Recommended IND | Valor entre 0 y 1, representando respectivamente si el cliente no recomienda el producto o por el contrario si lo recomienda |\n",
    "| Positive Feedback Count | Cantidad de reseñas positivas recibidas para el mismo producto |\n",
    "| Division Name | Nombre de la división a la cual pertenece el producto |\n",
    "| Department Name | Nombre del departamento al cual pertenece el producto |\n",
    "| Class Name | Nombre de la clase al cual pertenece el producto |\n",
    "\n",
    "### Categoria de variables\n",
    "\n",
    "- Variables Cuantitativas : Age, Positive Feedback Count.\n",
    "\n",
    "- Variables Cualitativas : Clothing ID, Title, Review Text, Rating, Recommended IND, Division Name, Department Name, Class Name.\n"
   ]
  },
  {
   "cell_type": "code",
   "execution_count": 4,
   "metadata": {
    "execution": {
     "iopub.execute_input": "2022-05-30T03:22:47.195384Z",
     "iopub.status.busy": "2022-05-30T03:22:47.194606Z",
     "iopub.status.idle": "2022-05-30T03:22:47.203945Z",
     "shell.execute_reply": "2022-05-30T03:22:47.202836Z",
     "shell.execute_reply.started": "2022-05-30T03:22:47.195346Z"
    }
   },
   "outputs": [
    {
     "data": {
      "text/plain": [
       "Unnamed: 0                  int64\n",
       "Clothing ID                 int64\n",
       "Age                         int64\n",
       "Title                      object\n",
       "Review Text                object\n",
       "Rating                      int64\n",
       "Recommended IND             int64\n",
       "Positive Feedback Count     int64\n",
       "Division Name              object\n",
       "Department Name            object\n",
       "Class Name                 object\n",
       "dtype: object"
      ]
     },
     "execution_count": 4,
     "metadata": {},
     "output_type": "execute_result"
    }
   ],
   "source": [
    "reviews_dataset.dtypes"
   ]
  },
  {
   "cell_type": "code",
   "execution_count": 5,
   "metadata": {
    "execution": {
     "iopub.execute_input": "2022-05-30T03:22:47.207315Z",
     "iopub.status.busy": "2022-05-30T03:22:47.205808Z",
     "iopub.status.idle": "2022-05-30T03:22:47.231593Z",
     "shell.execute_reply": "2022-05-30T03:22:47.230596Z",
     "shell.execute_reply.started": "2022-05-30T03:22:47.207257Z"
    }
   },
   "outputs": [
    {
     "data": {
      "text/html": [
       "<div>\n",
       "<style scoped>\n",
       "    .dataframe tbody tr th:only-of-type {\n",
       "        vertical-align: middle;\n",
       "    }\n",
       "\n",
       "    .dataframe tbody tr th {\n",
       "        vertical-align: top;\n",
       "    }\n",
       "\n",
       "    .dataframe thead th {\n",
       "        text-align: right;\n",
       "    }\n",
       "</style>\n",
       "<table border=\"1\" class=\"dataframe\">\n",
       "  <thead>\n",
       "    <tr style=\"text-align: right;\">\n",
       "      <th></th>\n",
       "      <th>Unnamed: 0</th>\n",
       "      <th>Clothing ID</th>\n",
       "      <th>Age</th>\n",
       "      <th>Title</th>\n",
       "      <th>Review Text</th>\n",
       "      <th>Rating</th>\n",
       "      <th>Recommended IND</th>\n",
       "      <th>Positive Feedback Count</th>\n",
       "      <th>Division Name</th>\n",
       "      <th>Department Name</th>\n",
       "      <th>Class Name</th>\n",
       "    </tr>\n",
       "  </thead>\n",
       "  <tbody>\n",
       "    <tr>\n",
       "      <th>0</th>\n",
       "      <td>0</td>\n",
       "      <td>767</td>\n",
       "      <td>33</td>\n",
       "      <td>NaN</td>\n",
       "      <td>Absolutely wonderful - silky and sexy and comf...</td>\n",
       "      <td>4</td>\n",
       "      <td>1</td>\n",
       "      <td>0</td>\n",
       "      <td>Initmates</td>\n",
       "      <td>Intimate</td>\n",
       "      <td>Intimates</td>\n",
       "    </tr>\n",
       "    <tr>\n",
       "      <th>1</th>\n",
       "      <td>1</td>\n",
       "      <td>1080</td>\n",
       "      <td>34</td>\n",
       "      <td>NaN</td>\n",
       "      <td>Love this dress!  it's sooo pretty.  i happene...</td>\n",
       "      <td>5</td>\n",
       "      <td>1</td>\n",
       "      <td>4</td>\n",
       "      <td>General</td>\n",
       "      <td>Dresses</td>\n",
       "      <td>Dresses</td>\n",
       "    </tr>\n",
       "    <tr>\n",
       "      <th>2</th>\n",
       "      <td>2</td>\n",
       "      <td>1077</td>\n",
       "      <td>60</td>\n",
       "      <td>Some major design flaws</td>\n",
       "      <td>I had such high hopes for this dress and reall...</td>\n",
       "      <td>3</td>\n",
       "      <td>0</td>\n",
       "      <td>0</td>\n",
       "      <td>General</td>\n",
       "      <td>Dresses</td>\n",
       "      <td>Dresses</td>\n",
       "    </tr>\n",
       "    <tr>\n",
       "      <th>3</th>\n",
       "      <td>3</td>\n",
       "      <td>1049</td>\n",
       "      <td>50</td>\n",
       "      <td>My favorite buy!</td>\n",
       "      <td>I love, love, love this jumpsuit. it's fun, fl...</td>\n",
       "      <td>5</td>\n",
       "      <td>1</td>\n",
       "      <td>0</td>\n",
       "      <td>General Petite</td>\n",
       "      <td>Bottoms</td>\n",
       "      <td>Pants</td>\n",
       "    </tr>\n",
       "    <tr>\n",
       "      <th>4</th>\n",
       "      <td>4</td>\n",
       "      <td>847</td>\n",
       "      <td>47</td>\n",
       "      <td>Flattering shirt</td>\n",
       "      <td>This shirt is very flattering to all due to th...</td>\n",
       "      <td>5</td>\n",
       "      <td>1</td>\n",
       "      <td>6</td>\n",
       "      <td>General</td>\n",
       "      <td>Tops</td>\n",
       "      <td>Blouses</td>\n",
       "    </tr>\n",
       "    <tr>\n",
       "      <th>...</th>\n",
       "      <td>...</td>\n",
       "      <td>...</td>\n",
       "      <td>...</td>\n",
       "      <td>...</td>\n",
       "      <td>...</td>\n",
       "      <td>...</td>\n",
       "      <td>...</td>\n",
       "      <td>...</td>\n",
       "      <td>...</td>\n",
       "      <td>...</td>\n",
       "      <td>...</td>\n",
       "    </tr>\n",
       "    <tr>\n",
       "      <th>23481</th>\n",
       "      <td>23481</td>\n",
       "      <td>1104</td>\n",
       "      <td>34</td>\n",
       "      <td>Great dress for many occasions</td>\n",
       "      <td>I was very happy to snag this dress at such a ...</td>\n",
       "      <td>5</td>\n",
       "      <td>1</td>\n",
       "      <td>0</td>\n",
       "      <td>General Petite</td>\n",
       "      <td>Dresses</td>\n",
       "      <td>Dresses</td>\n",
       "    </tr>\n",
       "    <tr>\n",
       "      <th>23482</th>\n",
       "      <td>23482</td>\n",
       "      <td>862</td>\n",
       "      <td>48</td>\n",
       "      <td>Wish it was made of cotton</td>\n",
       "      <td>It reminds me of maternity clothes. soft, stre...</td>\n",
       "      <td>3</td>\n",
       "      <td>1</td>\n",
       "      <td>0</td>\n",
       "      <td>General Petite</td>\n",
       "      <td>Tops</td>\n",
       "      <td>Knits</td>\n",
       "    </tr>\n",
       "    <tr>\n",
       "      <th>23483</th>\n",
       "      <td>23483</td>\n",
       "      <td>1104</td>\n",
       "      <td>31</td>\n",
       "      <td>Cute, but see through</td>\n",
       "      <td>This fit well, but the top was very see throug...</td>\n",
       "      <td>3</td>\n",
       "      <td>0</td>\n",
       "      <td>1</td>\n",
       "      <td>General Petite</td>\n",
       "      <td>Dresses</td>\n",
       "      <td>Dresses</td>\n",
       "    </tr>\n",
       "    <tr>\n",
       "      <th>23484</th>\n",
       "      <td>23484</td>\n",
       "      <td>1084</td>\n",
       "      <td>28</td>\n",
       "      <td>Very cute dress, perfect for summer parties an...</td>\n",
       "      <td>I bought this dress for a wedding i have this ...</td>\n",
       "      <td>3</td>\n",
       "      <td>1</td>\n",
       "      <td>2</td>\n",
       "      <td>General</td>\n",
       "      <td>Dresses</td>\n",
       "      <td>Dresses</td>\n",
       "    </tr>\n",
       "    <tr>\n",
       "      <th>23485</th>\n",
       "      <td>23485</td>\n",
       "      <td>1104</td>\n",
       "      <td>52</td>\n",
       "      <td>Please make more like this one!</td>\n",
       "      <td>This dress in a lovely platinum is feminine an...</td>\n",
       "      <td>5</td>\n",
       "      <td>1</td>\n",
       "      <td>22</td>\n",
       "      <td>General Petite</td>\n",
       "      <td>Dresses</td>\n",
       "      <td>Dresses</td>\n",
       "    </tr>\n",
       "  </tbody>\n",
       "</table>\n",
       "<p>23486 rows × 11 columns</p>\n",
       "</div>"
      ],
      "text/plain": [
       "       Unnamed: 0  Clothing ID  Age  \\\n",
       "0               0          767   33   \n",
       "1               1         1080   34   \n",
       "2               2         1077   60   \n",
       "3               3         1049   50   \n",
       "4               4          847   47   \n",
       "...           ...          ...  ...   \n",
       "23481       23481         1104   34   \n",
       "23482       23482          862   48   \n",
       "23483       23483         1104   31   \n",
       "23484       23484         1084   28   \n",
       "23485       23485         1104   52   \n",
       "\n",
       "                                                   Title  \\\n",
       "0                                                    NaN   \n",
       "1                                                    NaN   \n",
       "2                                Some major design flaws   \n",
       "3                                       My favorite buy!   \n",
       "4                                       Flattering shirt   \n",
       "...                                                  ...   \n",
       "23481                     Great dress for many occasions   \n",
       "23482                         Wish it was made of cotton   \n",
       "23483                              Cute, but see through   \n",
       "23484  Very cute dress, perfect for summer parties an...   \n",
       "23485                    Please make more like this one!   \n",
       "\n",
       "                                             Review Text  Rating  \\\n",
       "0      Absolutely wonderful - silky and sexy and comf...       4   \n",
       "1      Love this dress!  it's sooo pretty.  i happene...       5   \n",
       "2      I had such high hopes for this dress and reall...       3   \n",
       "3      I love, love, love this jumpsuit. it's fun, fl...       5   \n",
       "4      This shirt is very flattering to all due to th...       5   \n",
       "...                                                  ...     ...   \n",
       "23481  I was very happy to snag this dress at such a ...       5   \n",
       "23482  It reminds me of maternity clothes. soft, stre...       3   \n",
       "23483  This fit well, but the top was very see throug...       3   \n",
       "23484  I bought this dress for a wedding i have this ...       3   \n",
       "23485  This dress in a lovely platinum is feminine an...       5   \n",
       "\n",
       "       Recommended IND  Positive Feedback Count   Division Name  \\\n",
       "0                    1                        0       Initmates   \n",
       "1                    1                        4         General   \n",
       "2                    0                        0         General   \n",
       "3                    1                        0  General Petite   \n",
       "4                    1                        6         General   \n",
       "...                ...                      ...             ...   \n",
       "23481                1                        0  General Petite   \n",
       "23482                1                        0  General Petite   \n",
       "23483                0                        1  General Petite   \n",
       "23484                1                        2         General   \n",
       "23485                1                       22  General Petite   \n",
       "\n",
       "      Department Name Class Name  \n",
       "0            Intimate  Intimates  \n",
       "1             Dresses    Dresses  \n",
       "2             Dresses    Dresses  \n",
       "3             Bottoms      Pants  \n",
       "4                Tops    Blouses  \n",
       "...               ...        ...  \n",
       "23481         Dresses    Dresses  \n",
       "23482            Tops      Knits  \n",
       "23483         Dresses    Dresses  \n",
       "23484         Dresses    Dresses  \n",
       "23485         Dresses    Dresses  \n",
       "\n",
       "[23486 rows x 11 columns]"
      ]
     },
     "execution_count": 5,
     "metadata": {},
     "output_type": "execute_result"
    }
   ],
   "source": [
    "reviews_dataset"
   ]
  },
  {
   "cell_type": "markdown",
   "metadata": {},
   "source": [
    "## Limpieza de Datos"
   ]
  },
  {
   "cell_type": "markdown",
   "metadata": {},
   "source": [
    "### DATOS NULOS"
   ]
  },
  {
   "cell_type": "markdown",
   "metadata": {},
   "source": [
    "Observamos la cantidad de nulos que poseen cada columna y el porcentaje que representan dicha cantidad de datos en cada columna"
   ]
  },
  {
   "cell_type": "code",
   "execution_count": 6,
   "metadata": {
    "execution": {
     "iopub.execute_input": "2022-05-30T03:22:47.244448Z",
     "iopub.status.busy": "2022-05-30T03:22:47.243258Z",
     "iopub.status.idle": "2022-05-30T03:22:47.269993Z",
     "shell.execute_reply": "2022-05-30T03:22:47.268942Z",
     "shell.execute_reply.started": "2022-05-30T03:22:47.244397Z"
    }
   },
   "outputs": [
    {
     "data": {
      "text/plain": [
       "Unnamed: 0                    0\n",
       "Clothing ID                   0\n",
       "Age                           0\n",
       "Title                      3810\n",
       "Review Text                 845\n",
       "Rating                        0\n",
       "Recommended IND               0\n",
       "Positive Feedback Count       0\n",
       "Division Name                14\n",
       "Department Name              14\n",
       "Class Name                   14\n",
       "dtype: int64"
      ]
     },
     "execution_count": 6,
     "metadata": {},
     "output_type": "execute_result"
    }
   ],
   "source": [
    "reviews_dataset.isna().sum()"
   ]
  },
  {
   "cell_type": "code",
   "execution_count": 7,
   "metadata": {
    "execution": {
     "iopub.execute_input": "2022-05-30T03:22:47.334903Z",
     "iopub.status.busy": "2022-05-30T03:22:47.334272Z",
     "iopub.status.idle": "2022-05-30T03:22:47.361186Z",
     "shell.execute_reply": "2022-05-30T03:22:47.360109Z",
     "shell.execute_reply.started": "2022-05-30T03:22:47.334870Z"
    }
   },
   "outputs": [
    {
     "data": {
      "text/plain": [
       "Unnamed: 0                  0.000000\n",
       "Clothing ID                 0.000000\n",
       "Age                         0.000000\n",
       "Title                      16.222430\n",
       "Review Text                 3.597888\n",
       "Rating                      0.000000\n",
       "Recommended IND             0.000000\n",
       "Positive Feedback Count     0.000000\n",
       "Division Name               0.059610\n",
       "Department Name             0.059610\n",
       "Class Name                  0.059610\n",
       "dtype: float64"
      ]
     },
     "execution_count": 7,
     "metadata": {},
     "output_type": "execute_result"
    }
   ],
   "source": [
    "reviews_dataset.isnull().sum() *100 / len(reviews_dataset.index)"
   ]
  },
  {
   "cell_type": "markdown",
   "metadata": {},
   "source": [
    "Debido a que el trabajo a realizar con el dataset consiste en clasificar una reseña como una crítica positiva o una negativa a partir del texto en el campo “Review Text”, decidimos eliminar las columnas que no resultan de utilidad para dicho objetivo. De esta forma, obtenemos un dataset con las columnas necesarias para identificar las distintas prendas, el texto escrito en la reseña y por último la columna \"Rating\" para el desarrollo del ítem D, motivo por el cual conservamos dicha columna."
   ]
  },
  {
   "cell_type": "code",
   "execution_count": 8,
   "metadata": {
    "execution": {
     "iopub.execute_input": "2022-05-30T03:22:47.372907Z",
     "iopub.status.busy": "2022-05-30T03:22:47.372294Z",
     "iopub.status.idle": "2022-05-30T03:22:47.395414Z",
     "shell.execute_reply": "2022-05-30T03:22:47.394458Z",
     "shell.execute_reply.started": "2022-05-30T03:22:47.372874Z"
    }
   },
   "outputs": [
    {
     "data": {
      "text/html": [
       "<div>\n",
       "<style scoped>\n",
       "    .dataframe tbody tr th:only-of-type {\n",
       "        vertical-align: middle;\n",
       "    }\n",
       "\n",
       "    .dataframe tbody tr th {\n",
       "        vertical-align: top;\n",
       "    }\n",
       "\n",
       "    .dataframe thead th {\n",
       "        text-align: right;\n",
       "    }\n",
       "</style>\n",
       "<table border=\"1\" class=\"dataframe\">\n",
       "  <thead>\n",
       "    <tr style=\"text-align: right;\">\n",
       "      <th></th>\n",
       "      <th>Clothing ID</th>\n",
       "      <th>Review Text</th>\n",
       "      <th>Rating</th>\n",
       "    </tr>\n",
       "  </thead>\n",
       "  <tbody>\n",
       "    <tr>\n",
       "      <th>0</th>\n",
       "      <td>767</td>\n",
       "      <td>Absolutely wonderful - silky and sexy and comf...</td>\n",
       "      <td>4</td>\n",
       "    </tr>\n",
       "    <tr>\n",
       "      <th>1</th>\n",
       "      <td>1080</td>\n",
       "      <td>Love this dress!  it's sooo pretty.  i happene...</td>\n",
       "      <td>5</td>\n",
       "    </tr>\n",
       "    <tr>\n",
       "      <th>2</th>\n",
       "      <td>1077</td>\n",
       "      <td>I had such high hopes for this dress and reall...</td>\n",
       "      <td>3</td>\n",
       "    </tr>\n",
       "    <tr>\n",
       "      <th>3</th>\n",
       "      <td>1049</td>\n",
       "      <td>I love, love, love this jumpsuit. it's fun, fl...</td>\n",
       "      <td>5</td>\n",
       "    </tr>\n",
       "    <tr>\n",
       "      <th>4</th>\n",
       "      <td>847</td>\n",
       "      <td>This shirt is very flattering to all due to th...</td>\n",
       "      <td>5</td>\n",
       "    </tr>\n",
       "    <tr>\n",
       "      <th>...</th>\n",
       "      <td>...</td>\n",
       "      <td>...</td>\n",
       "      <td>...</td>\n",
       "    </tr>\n",
       "    <tr>\n",
       "      <th>23481</th>\n",
       "      <td>1104</td>\n",
       "      <td>I was very happy to snag this dress at such a ...</td>\n",
       "      <td>5</td>\n",
       "    </tr>\n",
       "    <tr>\n",
       "      <th>23482</th>\n",
       "      <td>862</td>\n",
       "      <td>It reminds me of maternity clothes. soft, stre...</td>\n",
       "      <td>3</td>\n",
       "    </tr>\n",
       "    <tr>\n",
       "      <th>23483</th>\n",
       "      <td>1104</td>\n",
       "      <td>This fit well, but the top was very see throug...</td>\n",
       "      <td>3</td>\n",
       "    </tr>\n",
       "    <tr>\n",
       "      <th>23484</th>\n",
       "      <td>1084</td>\n",
       "      <td>I bought this dress for a wedding i have this ...</td>\n",
       "      <td>3</td>\n",
       "    </tr>\n",
       "    <tr>\n",
       "      <th>23485</th>\n",
       "      <td>1104</td>\n",
       "      <td>This dress in a lovely platinum is feminine an...</td>\n",
       "      <td>5</td>\n",
       "    </tr>\n",
       "  </tbody>\n",
       "</table>\n",
       "<p>23486 rows × 3 columns</p>\n",
       "</div>"
      ],
      "text/plain": [
       "       Clothing ID                                        Review Text  Rating\n",
       "0              767  Absolutely wonderful - silky and sexy and comf...       4\n",
       "1             1080  Love this dress!  it's sooo pretty.  i happene...       5\n",
       "2             1077  I had such high hopes for this dress and reall...       3\n",
       "3             1049  I love, love, love this jumpsuit. it's fun, fl...       5\n",
       "4              847  This shirt is very flattering to all due to th...       5\n",
       "...            ...                                                ...     ...\n",
       "23481         1104  I was very happy to snag this dress at such a ...       5\n",
       "23482          862  It reminds me of maternity clothes. soft, stre...       3\n",
       "23483         1104  This fit well, but the top was very see throug...       3\n",
       "23484         1084  I bought this dress for a wedding i have this ...       3\n",
       "23485         1104  This dress in a lovely platinum is feminine an...       5\n",
       "\n",
       "[23486 rows x 3 columns]"
      ]
     },
     "execution_count": 8,
     "metadata": {},
     "output_type": "execute_result"
    }
   ],
   "source": [
    "columns_eliminate= ['Unnamed: 0','Age','Title','Recommended IND','Positive Feedback Count','Division Name','Department Name','Class Name']\n",
    "reviews_dataset.drop(columns_eliminate,axis = 'columns',inplace = True)\n",
    "\n",
    "reviews_dataset"
   ]
  },
  {
   "cell_type": "markdown",
   "metadata": {},
   "source": [
    "Por ultimo dado a que las filas con valores inválidos en la columna de \"Review Text\" son un total de 845 que representan una cantidad menor al 4% de la totalidad de los datos, optamos por eliminar dichas filas."
   ]
  },
  {
   "cell_type": "code",
   "execution_count": 9,
   "metadata": {
    "execution": {
     "iopub.execute_input": "2022-05-30T03:22:47.437265Z",
     "iopub.status.busy": "2022-05-30T03:22:47.436390Z",
     "iopub.status.idle": "2022-05-30T03:22:47.454927Z",
     "shell.execute_reply": "2022-05-30T03:22:47.453580Z",
     "shell.execute_reply.started": "2022-05-30T03:22:47.437218Z"
    }
   },
   "outputs": [
    {
     "data": {
      "text/plain": [
       "(22641, 3)"
      ]
     },
     "execution_count": 9,
     "metadata": {},
     "output_type": "execute_result"
    }
   ],
   "source": [
    "reviews_dataset.dropna(inplace=True)\n",
    "reviews_dataset.shape"
   ]
  },
  {
   "cell_type": "markdown",
   "metadata": {},
   "source": [
    "## Construccion de una nueva variable:"
   ]
  },
  {
   "cell_type": "markdown",
   "metadata": {},
   "source": [
    "## Verificación:\n",
    "Compruebo que la variable Rating no posea valores fuera de rango (1 al 5) antes de operar con dicha columna"
   ]
  },
  {
   "cell_type": "code",
   "execution_count": 10,
   "metadata": {
    "execution": {
     "iopub.execute_input": "2022-05-30T03:22:47.501517Z",
     "iopub.status.busy": "2022-05-30T03:22:47.501102Z",
     "iopub.status.idle": "2022-05-30T03:22:47.510405Z",
     "shell.execute_reply": "2022-05-30T03:22:47.509461Z",
     "shell.execute_reply.started": "2022-05-30T03:22:47.501488Z"
    }
   },
   "outputs": [
    {
     "data": {
      "text/plain": [
       "5    12540\n",
       "4     4908\n",
       "3     2823\n",
       "2     1549\n",
       "1      821\n",
       "Name: Rating, dtype: int64"
      ]
     },
     "execution_count": 10,
     "metadata": {},
     "output_type": "execute_result"
    }
   ],
   "source": [
    "reviews_dataset.Rating.value_counts()"
   ]
  },
  {
   "cell_type": "code",
   "execution_count": 11,
   "metadata": {
    "execution": {
     "iopub.execute_input": "2022-05-30T03:22:47.566509Z",
     "iopub.status.busy": "2022-05-30T03:22:47.565868Z",
     "iopub.status.idle": "2022-05-30T03:22:47.593282Z",
     "shell.execute_reply": "2022-05-30T03:22:47.592419Z",
     "shell.execute_reply.started": "2022-05-30T03:22:47.566474Z"
    }
   },
   "outputs": [
    {
     "data": {
      "text/html": [
       "<div>\n",
       "<style scoped>\n",
       "    .dataframe tbody tr th:only-of-type {\n",
       "        vertical-align: middle;\n",
       "    }\n",
       "\n",
       "    .dataframe tbody tr th {\n",
       "        vertical-align: top;\n",
       "    }\n",
       "\n",
       "    .dataframe thead th {\n",
       "        text-align: right;\n",
       "    }\n",
       "</style>\n",
       "<table border=\"1\" class=\"dataframe\">\n",
       "  <thead>\n",
       "    <tr style=\"text-align: right;\">\n",
       "      <th></th>\n",
       "      <th>Clothing ID</th>\n",
       "      <th>Review Text</th>\n",
       "      <th>Rating</th>\n",
       "      <th>Rating Category</th>\n",
       "    </tr>\n",
       "  </thead>\n",
       "  <tbody>\n",
       "    <tr>\n",
       "      <th>0</th>\n",
       "      <td>767</td>\n",
       "      <td>Absolutely wonderful - silky and sexy and comf...</td>\n",
       "      <td>4</td>\n",
       "      <td>Positivo</td>\n",
       "    </tr>\n",
       "    <tr>\n",
       "      <th>1</th>\n",
       "      <td>1080</td>\n",
       "      <td>Love this dress!  it's sooo pretty.  i happene...</td>\n",
       "      <td>5</td>\n",
       "      <td>Positivo</td>\n",
       "    </tr>\n",
       "    <tr>\n",
       "      <th>2</th>\n",
       "      <td>1077</td>\n",
       "      <td>I had such high hopes for this dress and reall...</td>\n",
       "      <td>3</td>\n",
       "      <td>Negativo</td>\n",
       "    </tr>\n",
       "    <tr>\n",
       "      <th>3</th>\n",
       "      <td>1049</td>\n",
       "      <td>I love, love, love this jumpsuit. it's fun, fl...</td>\n",
       "      <td>5</td>\n",
       "      <td>Positivo</td>\n",
       "    </tr>\n",
       "    <tr>\n",
       "      <th>4</th>\n",
       "      <td>847</td>\n",
       "      <td>This shirt is very flattering to all due to th...</td>\n",
       "      <td>5</td>\n",
       "      <td>Positivo</td>\n",
       "    </tr>\n",
       "    <tr>\n",
       "      <th>...</th>\n",
       "      <td>...</td>\n",
       "      <td>...</td>\n",
       "      <td>...</td>\n",
       "      <td>...</td>\n",
       "    </tr>\n",
       "    <tr>\n",
       "      <th>23481</th>\n",
       "      <td>1104</td>\n",
       "      <td>I was very happy to snag this dress at such a ...</td>\n",
       "      <td>5</td>\n",
       "      <td>Positivo</td>\n",
       "    </tr>\n",
       "    <tr>\n",
       "      <th>23482</th>\n",
       "      <td>862</td>\n",
       "      <td>It reminds me of maternity clothes. soft, stre...</td>\n",
       "      <td>3</td>\n",
       "      <td>Negativo</td>\n",
       "    </tr>\n",
       "    <tr>\n",
       "      <th>23483</th>\n",
       "      <td>1104</td>\n",
       "      <td>This fit well, but the top was very see throug...</td>\n",
       "      <td>3</td>\n",
       "      <td>Negativo</td>\n",
       "    </tr>\n",
       "    <tr>\n",
       "      <th>23484</th>\n",
       "      <td>1084</td>\n",
       "      <td>I bought this dress for a wedding i have this ...</td>\n",
       "      <td>3</td>\n",
       "      <td>Negativo</td>\n",
       "    </tr>\n",
       "    <tr>\n",
       "      <th>23485</th>\n",
       "      <td>1104</td>\n",
       "      <td>This dress in a lovely platinum is feminine an...</td>\n",
       "      <td>5</td>\n",
       "      <td>Positivo</td>\n",
       "    </tr>\n",
       "  </tbody>\n",
       "</table>\n",
       "<p>22641 rows × 4 columns</p>\n",
       "</div>"
      ],
      "text/plain": [
       "       Clothing ID                                        Review Text  Rating  \\\n",
       "0              767  Absolutely wonderful - silky and sexy and comf...       4   \n",
       "1             1080  Love this dress!  it's sooo pretty.  i happene...       5   \n",
       "2             1077  I had such high hopes for this dress and reall...       3   \n",
       "3             1049  I love, love, love this jumpsuit. it's fun, fl...       5   \n",
       "4              847  This shirt is very flattering to all due to th...       5   \n",
       "...            ...                                                ...     ...   \n",
       "23481         1104  I was very happy to snag this dress at such a ...       5   \n",
       "23482          862  It reminds me of maternity clothes. soft, stre...       3   \n",
       "23483         1104  This fit well, but the top was very see throug...       3   \n",
       "23484         1084  I bought this dress for a wedding i have this ...       3   \n",
       "23485         1104  This dress in a lovely platinum is feminine an...       5   \n",
       "\n",
       "      Rating Category  \n",
       "0            Positivo  \n",
       "1            Positivo  \n",
       "2            Negativo  \n",
       "3            Positivo  \n",
       "4            Positivo  \n",
       "...               ...  \n",
       "23481        Positivo  \n",
       "23482        Negativo  \n",
       "23483        Negativo  \n",
       "23484        Negativo  \n",
       "23485        Positivo  \n",
       "\n",
       "[22641 rows x 4 columns]"
      ]
     },
     "execution_count": 11,
     "metadata": {},
     "output_type": "execute_result"
    }
   ],
   "source": [
    "reviews_dataset['Rating Category'] = reviews_dataset['Rating'].apply(lambda x: 'Negativo' if x <= 3 else 'Positivo')\n",
    "reviews_dataset"
   ]
  },
  {
   "cell_type": "code",
   "execution_count": 12,
   "metadata": {
    "execution": {
     "iopub.execute_input": "2022-05-30T03:22:47.629605Z",
     "iopub.status.busy": "2022-05-30T03:22:47.629094Z",
     "iopub.status.idle": "2022-05-30T03:22:47.647671Z",
     "shell.execute_reply": "2022-05-30T03:22:47.646908Z",
     "shell.execute_reply.started": "2022-05-30T03:22:47.629570Z"
    }
   },
   "outputs": [
    {
     "data": {
      "text/html": [
       "<div>\n",
       "<style scoped>\n",
       "    .dataframe tbody tr th:only-of-type {\n",
       "        vertical-align: middle;\n",
       "    }\n",
       "\n",
       "    .dataframe tbody tr th {\n",
       "        vertical-align: top;\n",
       "    }\n",
       "\n",
       "    .dataframe thead th {\n",
       "        text-align: right;\n",
       "    }\n",
       "</style>\n",
       "<table border=\"1\" class=\"dataframe\">\n",
       "  <thead>\n",
       "    <tr style=\"text-align: right;\">\n",
       "      <th></th>\n",
       "      <th>Review Text</th>\n",
       "      <th>Rating Category</th>\n",
       "    </tr>\n",
       "  </thead>\n",
       "  <tbody>\n",
       "    <tr>\n",
       "      <th>0</th>\n",
       "      <td>Absolutely wonderful - silky and sexy and comf...</td>\n",
       "      <td>Positivo</td>\n",
       "    </tr>\n",
       "    <tr>\n",
       "      <th>1</th>\n",
       "      <td>Love this dress!  it's sooo pretty.  i happene...</td>\n",
       "      <td>Positivo</td>\n",
       "    </tr>\n",
       "    <tr>\n",
       "      <th>2</th>\n",
       "      <td>I had such high hopes for this dress and reall...</td>\n",
       "      <td>Negativo</td>\n",
       "    </tr>\n",
       "    <tr>\n",
       "      <th>3</th>\n",
       "      <td>I love, love, love this jumpsuit. it's fun, fl...</td>\n",
       "      <td>Positivo</td>\n",
       "    </tr>\n",
       "    <tr>\n",
       "      <th>4</th>\n",
       "      <td>This shirt is very flattering to all due to th...</td>\n",
       "      <td>Positivo</td>\n",
       "    </tr>\n",
       "    <tr>\n",
       "      <th>...</th>\n",
       "      <td>...</td>\n",
       "      <td>...</td>\n",
       "    </tr>\n",
       "    <tr>\n",
       "      <th>23481</th>\n",
       "      <td>I was very happy to snag this dress at such a ...</td>\n",
       "      <td>Positivo</td>\n",
       "    </tr>\n",
       "    <tr>\n",
       "      <th>23482</th>\n",
       "      <td>It reminds me of maternity clothes. soft, stre...</td>\n",
       "      <td>Negativo</td>\n",
       "    </tr>\n",
       "    <tr>\n",
       "      <th>23483</th>\n",
       "      <td>This fit well, but the top was very see throug...</td>\n",
       "      <td>Negativo</td>\n",
       "    </tr>\n",
       "    <tr>\n",
       "      <th>23484</th>\n",
       "      <td>I bought this dress for a wedding i have this ...</td>\n",
       "      <td>Negativo</td>\n",
       "    </tr>\n",
       "    <tr>\n",
       "      <th>23485</th>\n",
       "      <td>This dress in a lovely platinum is feminine an...</td>\n",
       "      <td>Positivo</td>\n",
       "    </tr>\n",
       "  </tbody>\n",
       "</table>\n",
       "<p>22641 rows × 2 columns</p>\n",
       "</div>"
      ],
      "text/plain": [
       "                                             Review Text Rating Category\n",
       "0      Absolutely wonderful - silky and sexy and comf...        Positivo\n",
       "1      Love this dress!  it's sooo pretty.  i happene...        Positivo\n",
       "2      I had such high hopes for this dress and reall...        Negativo\n",
       "3      I love, love, love this jumpsuit. it's fun, fl...        Positivo\n",
       "4      This shirt is very flattering to all due to th...        Positivo\n",
       "...                                                  ...             ...\n",
       "23481  I was very happy to snag this dress at such a ...        Positivo\n",
       "23482  It reminds me of maternity clothes. soft, stre...        Negativo\n",
       "23483  This fit well, but the top was very see throug...        Negativo\n",
       "23484  I bought this dress for a wedding i have this ...        Negativo\n",
       "23485  This dress in a lovely platinum is feminine an...        Positivo\n",
       "\n",
       "[22641 rows x 2 columns]"
      ]
     },
     "execution_count": 12,
     "metadata": {},
     "output_type": "execute_result"
    }
   ],
   "source": [
    "reviews = reviews_dataset.loc[:, ['Review Text', 'Rating Category']]\n",
    "reviews"
   ]
  },
  {
   "cell_type": "code",
   "execution_count": 13,
   "metadata": {
    "execution": {
     "iopub.execute_input": "2022-05-30T03:22:47.697071Z",
     "iopub.status.busy": "2022-05-30T03:22:47.695973Z",
     "iopub.status.idle": "2022-05-30T03:22:47.722893Z",
     "shell.execute_reply": "2022-05-30T03:22:47.722136Z",
     "shell.execute_reply.started": "2022-05-30T03:22:47.697020Z"
    }
   },
   "outputs": [
    {
     "data": {
      "text/html": [
       "<div>\n",
       "<style scoped>\n",
       "    .dataframe tbody tr th:only-of-type {\n",
       "        vertical-align: middle;\n",
       "    }\n",
       "\n",
       "    .dataframe tbody tr th {\n",
       "        vertical-align: top;\n",
       "    }\n",
       "\n",
       "    .dataframe thead th {\n",
       "        text-align: right;\n",
       "    }\n",
       "</style>\n",
       "<table border=\"1\" class=\"dataframe\">\n",
       "  <thead>\n",
       "    <tr style=\"text-align: right;\">\n",
       "      <th></th>\n",
       "      <th>Review Text</th>\n",
       "      <th>Rating Category</th>\n",
       "    </tr>\n",
       "  </thead>\n",
       "  <tbody>\n",
       "    <tr>\n",
       "      <th>0</th>\n",
       "      <td>Absolutely wonderful - silky and sexy and comf...</td>\n",
       "      <td>1</td>\n",
       "    </tr>\n",
       "    <tr>\n",
       "      <th>1</th>\n",
       "      <td>Love this dress!  it's sooo pretty.  i happene...</td>\n",
       "      <td>1</td>\n",
       "    </tr>\n",
       "    <tr>\n",
       "      <th>2</th>\n",
       "      <td>I had such high hopes for this dress and reall...</td>\n",
       "      <td>0</td>\n",
       "    </tr>\n",
       "    <tr>\n",
       "      <th>3</th>\n",
       "      <td>I love, love, love this jumpsuit. it's fun, fl...</td>\n",
       "      <td>1</td>\n",
       "    </tr>\n",
       "    <tr>\n",
       "      <th>4</th>\n",
       "      <td>This shirt is very flattering to all due to th...</td>\n",
       "      <td>1</td>\n",
       "    </tr>\n",
       "    <tr>\n",
       "      <th>...</th>\n",
       "      <td>...</td>\n",
       "      <td>...</td>\n",
       "    </tr>\n",
       "    <tr>\n",
       "      <th>23481</th>\n",
       "      <td>I was very happy to snag this dress at such a ...</td>\n",
       "      <td>1</td>\n",
       "    </tr>\n",
       "    <tr>\n",
       "      <th>23482</th>\n",
       "      <td>It reminds me of maternity clothes. soft, stre...</td>\n",
       "      <td>0</td>\n",
       "    </tr>\n",
       "    <tr>\n",
       "      <th>23483</th>\n",
       "      <td>This fit well, but the top was very see throug...</td>\n",
       "      <td>0</td>\n",
       "    </tr>\n",
       "    <tr>\n",
       "      <th>23484</th>\n",
       "      <td>I bought this dress for a wedding i have this ...</td>\n",
       "      <td>0</td>\n",
       "    </tr>\n",
       "    <tr>\n",
       "      <th>23485</th>\n",
       "      <td>This dress in a lovely platinum is feminine an...</td>\n",
       "      <td>1</td>\n",
       "    </tr>\n",
       "  </tbody>\n",
       "</table>\n",
       "<p>22641 rows × 2 columns</p>\n",
       "</div>"
      ],
      "text/plain": [
       "                                             Review Text  Rating Category\n",
       "0      Absolutely wonderful - silky and sexy and comf...                1\n",
       "1      Love this dress!  it's sooo pretty.  i happene...                1\n",
       "2      I had such high hopes for this dress and reall...                0\n",
       "3      I love, love, love this jumpsuit. it's fun, fl...                1\n",
       "4      This shirt is very flattering to all due to th...                1\n",
       "...                                                  ...              ...\n",
       "23481  I was very happy to snag this dress at such a ...                1\n",
       "23482  It reminds me of maternity clothes. soft, stre...                0\n",
       "23483  This fit well, but the top was very see throug...                0\n",
       "23484  I bought this dress for a wedding i have this ...                0\n",
       "23485  This dress in a lovely platinum is feminine an...                1\n",
       "\n",
       "[22641 rows x 2 columns]"
      ]
     },
     "execution_count": 13,
     "metadata": {},
     "output_type": "execute_result"
    }
   ],
   "source": [
    "le = LabelEncoder()\n",
    "reviews['Rating Category'] = le.fit_transform(reviews['Rating Category'])\n",
    "reviews"
   ]
  },
  {
   "cell_type": "code",
   "execution_count": 14,
   "metadata": {
    "execution": {
     "iopub.execute_input": "2022-05-30T03:22:47.758659Z",
     "iopub.status.busy": "2022-05-30T03:22:47.758198Z",
     "iopub.status.idle": "2022-05-30T03:22:47.767116Z",
     "shell.execute_reply": "2022-05-30T03:22:47.766313Z",
     "shell.execute_reply.started": "2022-05-30T03:22:47.758624Z"
    }
   },
   "outputs": [
    {
     "data": {
      "text/plain": [
       "Review Text        object\n",
       "Rating Category     int64\n",
       "dtype: object"
      ]
     },
     "execution_count": 14,
     "metadata": {},
     "output_type": "execute_result"
    }
   ],
   "source": [
    "reviews.dtypes"
   ]
  },
  {
   "cell_type": "code",
   "execution_count": 15,
   "metadata": {
    "execution": {
     "iopub.execute_input": "2022-05-30T03:22:47.821276Z",
     "iopub.status.busy": "2022-05-30T03:22:47.820465Z",
     "iopub.status.idle": "2022-05-30T03:22:49.216779Z",
     "shell.execute_reply": "2022-05-30T03:22:49.215615Z",
     "shell.execute_reply.started": "2022-05-30T03:22:47.821238Z"
    }
   },
   "outputs": [
    {
     "data": {
      "text/plain": [
       "(22641, 14005)"
      ]
     },
     "execution_count": 15,
     "metadata": {},
     "output_type": "execute_result"
    }
   ],
   "source": [
    "stop_words = set(stopwords.words('english'))\n",
    "vect = CountVectorizer(stop_words=stop_words)\n",
    "vect_df = vect.fit_transform(reviews['Review Text'].values.tolist())\n",
    "vect_df.shape"
   ]
  },
  {
   "cell_type": "code",
   "execution_count": 16,
   "metadata": {
    "execution": {
     "iopub.execute_input": "2022-05-30T03:22:49.218982Z",
     "iopub.status.busy": "2022-05-30T03:22:49.218634Z",
     "iopub.status.idle": "2022-05-30T03:22:49.232362Z",
     "shell.execute_reply": "2022-05-30T03:22:49.231402Z",
     "shell.execute_reply.started": "2022-05-30T03:22:49.218951Z"
    }
   },
   "outputs": [],
   "source": [
    "X_train, X_test, y_train, y_test = train_test_split(vect_df, reviews['Rating Category'], test_size=0.3, random_state=10, stratify=reviews['Rating Category'])"
   ]
  },
  {
   "cell_type": "markdown",
   "metadata": {},
   "source": [
    "### Naive Bayes"
   ]
  },
  {
   "cell_type": "code",
   "execution_count": 17,
   "metadata": {
    "execution": {
     "iopub.execute_input": "2022-05-30T03:22:49.233769Z",
     "iopub.status.busy": "2022-05-30T03:22:49.233441Z",
     "iopub.status.idle": "2022-05-30T03:22:49.248128Z",
     "shell.execute_reply": "2022-05-30T03:22:49.247296Z",
     "shell.execute_reply.started": "2022-05-30T03:22:49.233741Z"
    }
   },
   "outputs": [
    {
     "data": {
      "text/plain": [
       "MultinomialNB()"
      ]
     },
     "execution_count": 17,
     "metadata": {},
     "output_type": "execute_result"
    }
   ],
   "source": [
    "nb_clf = MultinomialNB()\n",
    "nb_clf.fit(X_train, y_train)"
   ]
  },
  {
   "cell_type": "code",
   "execution_count": 18,
   "metadata": {
    "execution": {
     "iopub.execute_input": "2022-05-30T03:22:49.250613Z",
     "iopub.status.busy": "2022-05-30T03:22:49.250277Z",
     "iopub.status.idle": "2022-05-30T03:22:49.271959Z",
     "shell.execute_reply": "2022-05-30T03:22:49.271013Z",
     "shell.execute_reply.started": "2022-05-30T03:22:49.250575Z"
    }
   },
   "outputs": [],
   "source": [
    "y_nb_pred = nb_clf.predict(X_test)\n",
    "report_NB = classification_report(y_test, y_nb_pred, digits=3)"
   ]
  },
  {
   "cell_type": "markdown",
   "metadata": {},
   "source": [
    "### Regresión Logística"
   ]
  },
  {
   "cell_type": "markdown",
   "metadata": {},
   "source": [
    "Para poder utilizar l función, Fit se deben verificar dos cosas:\n",
    "\n",
    "i. Que no haya datos NaN\n",
    "\n",
    "ii. Que cada elemento en la fila X_train, sea un vector."
   ]
  },
  {
   "cell_type": "code",
   "execution_count": 19,
   "metadata": {
    "execution": {
     "iopub.execute_input": "2022-05-30T03:22:49.273847Z",
     "iopub.status.busy": "2022-05-30T03:22:49.273074Z",
     "iopub.status.idle": "2022-05-30T03:22:50.836728Z",
     "shell.execute_reply": "2022-05-30T03:22:50.835680Z",
     "shell.execute_reply.started": "2022-05-30T03:22:49.273808Z"
    }
   },
   "outputs": [
    {
     "data": {
      "text/plain": [
       "LogisticRegression(C=0.5, max_iter=150)"
      ]
     },
     "execution_count": 19,
     "metadata": {},
     "output_type": "execute_result"
    }
   ],
   "source": [
    "lr = LogisticRegression(C=0.5, max_iter=150)\n",
    "lr.fit(X_train, y_train)"
   ]
  },
  {
   "cell_type": "code",
   "execution_count": 20,
   "metadata": {
    "execution": {
     "iopub.execute_input": "2022-05-30T03:22:50.846490Z",
     "iopub.status.busy": "2022-05-30T03:22:50.842188Z",
     "iopub.status.idle": "2022-05-30T03:22:50.907827Z",
     "shell.execute_reply": "2022-05-30T03:22:50.906616Z",
     "shell.execute_reply.started": "2022-05-30T03:22:50.846429Z"
    }
   },
   "outputs": [],
   "source": [
    "y_lr_pred = lr.predict(X_test)\n",
    "report_LR =classification_report(y_test, y_lr_pred, digits=3)"
   ]
  },
  {
   "cell_type": "markdown",
   "metadata": {},
   "source": [
    "### Árboles de decisión"
   ]
  },
  {
   "cell_type": "code",
   "execution_count": 21,
   "metadata": {
    "execution": {
     "iopub.execute_input": "2022-05-30T03:22:50.918310Z",
     "iopub.status.busy": "2022-05-30T03:22:50.913685Z",
     "iopub.status.idle": "2022-05-30T03:22:51.318717Z",
     "shell.execute_reply": "2022-05-30T03:22:51.318065Z",
     "shell.execute_reply.started": "2022-05-30T03:22:50.918237Z"
    }
   },
   "outputs": [
    {
     "data": {
      "text/plain": [
       "DecisionTreeClassifier(max_depth=10, min_samples_leaf=2, min_samples_split=10)"
      ]
     },
     "execution_count": 21,
     "metadata": {},
     "output_type": "execute_result"
    }
   ],
   "source": [
    "tree = tree.DecisionTreeClassifier(criterion='gini',min_samples_split=10,min_samples_leaf=2,ccp_alpha=0.0,max_depth=10) \n",
    "\n",
    "tree.fit(X_train,y_train)"
   ]
  },
  {
   "cell_type": "code",
   "execution_count": 22,
   "metadata": {
    "execution": {
     "iopub.execute_input": "2022-05-30T03:22:51.320502Z",
     "iopub.status.busy": "2022-05-30T03:22:51.319896Z",
     "iopub.status.idle": "2022-05-30T03:22:51.349344Z",
     "shell.execute_reply": "2022-05-30T03:22:51.348492Z",
     "shell.execute_reply.started": "2022-05-30T03:22:51.320459Z"
    }
   },
   "outputs": [],
   "source": [
    "y_tree_pred = tree.predict(X_test)\n",
    "\n",
    "report_DT = classification_report(y_test, y_tree_pred, digits=3)"
   ]
  },
  {
   "cell_type": "markdown",
   "metadata": {},
   "source": [
    "### Random Forest"
   ]
  },
  {
   "cell_type": "code",
   "execution_count": 23,
   "metadata": {
    "execution": {
     "iopub.execute_input": "2022-05-30T03:22:51.351142Z",
     "iopub.status.busy": "2022-05-30T03:22:51.350457Z",
     "iopub.status.idle": "2022-05-30T03:22:51.710032Z",
     "shell.execute_reply": "2022-05-30T03:22:51.708978Z",
     "shell.execute_reply.started": "2022-05-30T03:22:51.351103Z"
    }
   },
   "outputs": [
    {
     "data": {
      "text/plain": [
       "RandomForestClassifier(max_depth=12, min_samples_leaf=7, min_samples_split=15,\n",
       "                       n_estimators=15)"
      ]
     },
     "execution_count": 23,
     "metadata": {},
     "output_type": "execute_result"
    }
   ],
   "source": [
    "forest_model= RandomForestClassifier(criterion='gini',min_samples_split=15,min_samples_leaf=7,ccp_alpha=0.0,max_depth=12, n_estimators=15)\n",
    "\n",
    "forest_model.fit(X_train,y_train)"
   ]
  },
  {
   "cell_type": "code",
   "execution_count": 24,
   "metadata": {
    "execution": {
     "iopub.execute_input": "2022-05-30T03:22:51.712977Z",
     "iopub.status.busy": "2022-05-30T03:22:51.712413Z",
     "iopub.status.idle": "2022-05-30T03:22:51.758085Z",
     "shell.execute_reply": "2022-05-30T03:22:51.756887Z",
     "shell.execute_reply.started": "2022-05-30T03:22:51.712940Z"
    }
   },
   "outputs": [],
   "source": [
    "y_forest_pred = forest_model.predict(X_test)\n",
    "\n",
    "report_RF = classification_report(y_test, y_forest_pred, digits=3)"
   ]
  },
  {
   "cell_type": "markdown",
   "metadata": {},
   "source": [
    "## Aclaración:\n",
    "\n",
    "En los últimos dos modelos utilizados, Árboles de decisión y Random Forest se puede implementar CrossValidation con el fin de encontrar los hiperparametros que mejoren el resultado obtenido según una determinada métrica. \n",
    "\n",
    "Específicamente se puede implementar un RandomSearch para el proceso de CrossValidaton y de esta forma probar una cierta cantidad de conjuntos aleatorios de hiperparametros pertenecientes a un rango que le brindamos al proceso. En su contraparte, también es posible utilizar GridSearch para probar todas las combinaciones posibles de hipeparametros entre los rangos brindados al proceso y obtener la mejor combinación.\n",
    "\n",
    "Por ejemplo en el modelo de Random Forest es posible utilizar CrossValidation para los hipervalores: 'criterion', 'min_samples_split', 'min_samples_leaf', 'ccp_alpha' y 'max_depth'.\n",
    "\n",
    "Sin embargo, preferimos no utilizar CrossValidation con el fin de obtener un mejor resultado a la hora de comparar los modelos, es decir, realizar la comparación con una de las posibilidades de hiperparametros y no con un conjunto que de mejores resultados."
   ]
  },
  {
   "cell_type": "markdown",
   "metadata": {},
   "source": [
    "### comparación de los modelos"
   ]
  },
  {
   "cell_type": "code",
   "execution_count": 25,
   "metadata": {
    "execution": {
     "iopub.execute_input": "2022-05-30T03:27:11.326678Z",
     "iopub.status.busy": "2022-05-30T03:27:11.325877Z",
     "iopub.status.idle": "2022-05-30T03:27:11.333098Z",
     "shell.execute_reply": "2022-05-30T03:27:11.331780Z",
     "shell.execute_reply.started": "2022-05-30T03:27:11.326641Z"
    }
   },
   "outputs": [
    {
     "name": "stdout",
     "output_type": "stream",
     "text": [
      "Naive Bayes: \n",
      "               precision    recall  f1-score   support\n",
      "\n",
      "           0      0.736     0.696     0.715      1558\n",
      "           1      0.911     0.926     0.918      5235\n",
      "\n",
      "    accuracy                          0.873      6793\n",
      "   macro avg      0.823     0.811     0.817      6793\n",
      "weighted avg      0.871     0.873     0.872      6793\n",
      "\n",
      "Regresión logística: \n",
      "               precision    recall  f1-score   support\n",
      "\n",
      "           0      0.758     0.635     0.691      1558\n",
      "           1      0.896     0.940     0.918      5235\n",
      "\n",
      "    accuracy                          0.870      6793\n",
      "   macro avg      0.827     0.788     0.804      6793\n",
      "weighted avg      0.865     0.870     0.866      6793\n",
      "\n",
      "Árboles de decisión \n",
      ":               precision    recall  f1-score   support\n",
      "\n",
      "           0      0.635     0.368     0.466      1558\n",
      "           1      0.833     0.937     0.882      5235\n",
      "\n",
      "    accuracy                          0.807      6793\n",
      "   macro avg      0.734     0.653     0.674      6793\n",
      "weighted avg      0.788     0.807     0.787      6793\n",
      "\n",
      "Random Forest: \n",
      "               precision    recall  f1-score   support\n",
      "\n",
      "           0      1.000     0.004     0.008      1558\n",
      "           1      0.771     1.000     0.871      5235\n",
      "\n",
      "    accuracy                          0.772      6793\n",
      "   macro avg      0.886     0.502     0.439      6793\n",
      "weighted avg      0.824     0.772     0.673      6793\n",
      "\n"
     ]
    }
   ],
   "source": [
    "print(\"Naive Bayes: \\n\", report_NB)\n",
    "print(\"Regresión logística: \\n\",report_LR)\n",
    "print(\"Árboles de decisión \\n:\",report_DT)\n",
    "print(\"Random Forest: \\n\",report_RF)"
   ]
  },
  {
   "cell_type": "markdown",
   "metadata": {},
   "source": [
    "### Implementación del mejor modelo:\n",
    "\n",
    "Debido a que la métrica F1-score emplea los valores tanto de la precisión como del recall, optamos por darle mayor pero a dicha métrica a la hora de elegir el mejor modelo. Por este motivo optamos por utilizar Naive Bayes para catalogar a las reseñas en las 5 categorías de Rating. Dado a que no utilizaremos la columna de Rating binario “Rating Category” la eliminaremos."
   ]
  },
  {
   "cell_type": "code",
   "execution_count": 26,
   "metadata": {
    "execution": {
     "iopub.execute_input": "2022-05-30T03:39:56.326003Z",
     "iopub.status.busy": "2022-05-30T03:39:56.325244Z",
     "iopub.status.idle": "2022-05-30T03:39:56.343086Z",
     "shell.execute_reply": "2022-05-30T03:39:56.342251Z",
     "shell.execute_reply.started": "2022-05-30T03:39:56.325969Z"
    }
   },
   "outputs": [
    {
     "data": {
      "text/html": [
       "<div>\n",
       "<style scoped>\n",
       "    .dataframe tbody tr th:only-of-type {\n",
       "        vertical-align: middle;\n",
       "    }\n",
       "\n",
       "    .dataframe tbody tr th {\n",
       "        vertical-align: top;\n",
       "    }\n",
       "\n",
       "    .dataframe thead th {\n",
       "        text-align: right;\n",
       "    }\n",
       "</style>\n",
       "<table border=\"1\" class=\"dataframe\">\n",
       "  <thead>\n",
       "    <tr style=\"text-align: right;\">\n",
       "      <th></th>\n",
       "      <th>Clothing ID</th>\n",
       "      <th>Review Text</th>\n",
       "      <th>Rating</th>\n",
       "    </tr>\n",
       "  </thead>\n",
       "  <tbody>\n",
       "    <tr>\n",
       "      <th>0</th>\n",
       "      <td>767</td>\n",
       "      <td>Absolutely wonderful - silky and sexy and comf...</td>\n",
       "      <td>4</td>\n",
       "    </tr>\n",
       "    <tr>\n",
       "      <th>1</th>\n",
       "      <td>1080</td>\n",
       "      <td>Love this dress!  it's sooo pretty.  i happene...</td>\n",
       "      <td>5</td>\n",
       "    </tr>\n",
       "    <tr>\n",
       "      <th>2</th>\n",
       "      <td>1077</td>\n",
       "      <td>I had such high hopes for this dress and reall...</td>\n",
       "      <td>3</td>\n",
       "    </tr>\n",
       "    <tr>\n",
       "      <th>3</th>\n",
       "      <td>1049</td>\n",
       "      <td>I love, love, love this jumpsuit. it's fun, fl...</td>\n",
       "      <td>5</td>\n",
       "    </tr>\n",
       "    <tr>\n",
       "      <th>4</th>\n",
       "      <td>847</td>\n",
       "      <td>This shirt is very flattering to all due to th...</td>\n",
       "      <td>5</td>\n",
       "    </tr>\n",
       "    <tr>\n",
       "      <th>...</th>\n",
       "      <td>...</td>\n",
       "      <td>...</td>\n",
       "      <td>...</td>\n",
       "    </tr>\n",
       "    <tr>\n",
       "      <th>23481</th>\n",
       "      <td>1104</td>\n",
       "      <td>I was very happy to snag this dress at such a ...</td>\n",
       "      <td>5</td>\n",
       "    </tr>\n",
       "    <tr>\n",
       "      <th>23482</th>\n",
       "      <td>862</td>\n",
       "      <td>It reminds me of maternity clothes. soft, stre...</td>\n",
       "      <td>3</td>\n",
       "    </tr>\n",
       "    <tr>\n",
       "      <th>23483</th>\n",
       "      <td>1104</td>\n",
       "      <td>This fit well, but the top was very see throug...</td>\n",
       "      <td>3</td>\n",
       "    </tr>\n",
       "    <tr>\n",
       "      <th>23484</th>\n",
       "      <td>1084</td>\n",
       "      <td>I bought this dress for a wedding i have this ...</td>\n",
       "      <td>3</td>\n",
       "    </tr>\n",
       "    <tr>\n",
       "      <th>23485</th>\n",
       "      <td>1104</td>\n",
       "      <td>This dress in a lovely platinum is feminine an...</td>\n",
       "      <td>5</td>\n",
       "    </tr>\n",
       "  </tbody>\n",
       "</table>\n",
       "<p>22641 rows × 3 columns</p>\n",
       "</div>"
      ],
      "text/plain": [
       "       Clothing ID                                        Review Text  Rating\n",
       "0              767  Absolutely wonderful - silky and sexy and comf...       4\n",
       "1             1080  Love this dress!  it's sooo pretty.  i happene...       5\n",
       "2             1077  I had such high hopes for this dress and reall...       3\n",
       "3             1049  I love, love, love this jumpsuit. it's fun, fl...       5\n",
       "4              847  This shirt is very flattering to all due to th...       5\n",
       "...            ...                                                ...     ...\n",
       "23481         1104  I was very happy to snag this dress at such a ...       5\n",
       "23482          862  It reminds me of maternity clothes. soft, stre...       3\n",
       "23483         1104  This fit well, but the top was very see throug...       3\n",
       "23484         1084  I bought this dress for a wedding i have this ...       3\n",
       "23485         1104  This dress in a lovely platinum is feminine an...       5\n",
       "\n",
       "[22641 rows x 3 columns]"
      ]
     },
     "execution_count": 26,
     "metadata": {},
     "output_type": "execute_result"
    }
   ],
   "source": [
    "reviews_dataset.drop(columns = 'Rating Category', inplace = True)\n",
    "reviews_dataset"
   ]
  },
  {
   "cell_type": "code",
   "execution_count": 27,
   "metadata": {
    "execution": {
     "iopub.execute_input": "2022-05-30T03:56:26.334001Z",
     "iopub.status.busy": "2022-05-30T03:56:26.333624Z",
     "iopub.status.idle": "2022-05-30T03:56:26.378136Z",
     "shell.execute_reply": "2022-05-30T03:56:26.376603Z",
     "shell.execute_reply.started": "2022-05-30T03:56:26.333973Z"
    }
   },
   "outputs": [
    {
     "name": "stdout",
     "output_type": "stream",
     "text": [
      "              precision    recall  f1-score   support\n",
      "\n",
      "           1      0.385     0.041     0.074       246\n",
      "           2      0.293     0.084     0.130       465\n",
      "           3      0.392     0.426     0.408       847\n",
      "           4      0.423     0.373     0.397      1473\n",
      "           5      0.762     0.894     0.823      3762\n",
      "\n",
      "    accuracy                          0.637      6793\n",
      "   macro avg      0.451     0.364     0.366      6793\n",
      "weighted avg      0.597     0.637     0.604      6793\n",
      "\n"
     ]
    }
   ],
   "source": [
    "X_train, X_test, y_train, y_test = train_test_split(vect_df, reviews_dataset['Rating'], test_size=0.3, random_state=10, stratify=reviews_dataset['Rating'])\n",
    "\n",
    "nb_clf = MultinomialNB()\n",
    "nb_clf.fit(X_train, y_train)\n",
    "\n",
    "y_nb_pred = nb_clf.predict(X_test)\n",
    "\n",
    "print(classification_report(y_test, y_nb_pred, digits=3))"
   ]
  },
  {
   "cell_type": "markdown",
   "metadata": {},
   "source": [
    "### Conclusiones:\n",
    "\n"
   ]
  },
  {
   "cell_type": "markdown",
   "metadata": {},
   "source": [
    "\n",
    "En primer lugar separamos nuevamente los datos del dataset filtrado en con una proporción del 70% y 30 % para posteriormente entrenar un modelo de Naive Bayes con el objetivo de catalogar las reseñas entre las 5 categorías de Rating.\n",
    "\n",
    "Al analizar los resultados de las métricas en las distintas categorías, podemos observar que son bastante distintas. Por ejemplo, observamos que la metrica F1 vale 0.074 para la categoría de reseñas con 1 estrella pero sin embargo vale 0.823 para aquellas que poseen 5 estrellas. Una posible explicación para esta situación es la cantidad de datos que poseen cada categoría, ya que la categoría de 5 estrellas cuenta con 12540 reseñas contra las 821 reseñas categorizadas con 1 estrella. \n",
    "En caso de desear un mejor resultado en las categorías donde peor se desempeña el modelo, se deberán utilizar otras estrategias como por ejemplo modificar los datos del dataset (emparejando las cantidades sea con datos nuevos u operado con los datos existentes), otra opción sería el control de los conjuntos de entrenamiento del modelo para que los mismos sean balaceados.\n",
    "\n",
    "Con Naive Bayes se obtubieron mejores resultados que con Regresión Logistíca y Árboles decisión. Esto se puede deber a que este algoritmo funciona mejor para análisis de sentimientos o que el volumen de datos no sea lo suficientemente significativo."
   ]
  },
  {
   "cell_type": "code",
   "execution_count": null,
   "metadata": {},
   "outputs": [],
   "source": []
  }
 ],
 "metadata": {
  "kernelspec": {
   "display_name": "Python 3 (ipykernel)",
   "language": "python",
   "name": "python3"
  },
  "language_info": {
   "codemirror_mode": {
    "name": "ipython",
    "version": 3
   },
   "file_extension": ".py",
   "mimetype": "text/x-python",
   "name": "python",
   "nbconvert_exporter": "python",
   "pygments_lexer": "ipython3",
   "version": "3.9.12"
  }
 },
 "nbformat": 4,
 "nbformat_minor": 4
}
