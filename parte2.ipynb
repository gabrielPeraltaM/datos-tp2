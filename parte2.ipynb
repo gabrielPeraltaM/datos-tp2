{
 "cells": [
  {
   "cell_type": "markdown",
   "source": [
    "# Ejercicio 2"
   ],
   "metadata": {
    "collapsed": false,
    "pycharm": {
     "name": "#%% md\n"
    }
   }
  },
  {
   "cell_type": "markdown",
   "source": [
    "## Parte 1"
   ],
   "metadata": {
    "collapsed": false,
    "pycharm": {
     "name": "#%% md\n"
    }
   }
  },
  {
   "cell_type": "code",
   "execution_count": 59,
   "outputs": [],
   "source": [
    "from typing import List\n",
    "\n",
    "import numpy as np\n",
    "from IPython.display import display\n",
    "\n",
    "import pandas as pd\n",
    "import seaborn as sns\n",
    "\n",
    "from sklearn.model_selection import StratifiedKFold, train_test_split, RandomizedSearchCV\n",
    "from sklearn.tree import DecisionTreeClassifier\n",
    "from sklearn.metrics import make_scorer, f1_score"
   ],
   "metadata": {
    "collapsed": false,
    "pycharm": {
     "name": "#%%\n"
    }
   }
  },
  {
   "cell_type": "code",
   "execution_count": 2,
   "outputs": [],
   "source": [
    "def read_data_from_csv(file_path: str) -> pd.DataFrame:\n",
    "    return pd.read_csv(file_path)"
   ],
   "metadata": {
    "collapsed": false,
    "pycharm": {
     "name": "#%%\n"
    }
   }
  },
  {
   "cell_type": "code",
   "execution_count": 3,
   "outputs": [],
   "source": [
    "HOTEL_BOOKINGS_DATASET_PATH = './datasets/hotel_bookings.csv'\n",
    "hotel_bookings_df = read_data_from_csv(file_path=HOTEL_BOOKINGS_DATASET_PATH)"
   ],
   "metadata": {
    "collapsed": false,
    "pycharm": {
     "name": "#%%\n"
    }
   }
  },
  {
   "cell_type": "code",
   "execution_count": 4,
   "outputs": [
    {
     "data": {
      "text/plain": "               hotel  is_canceled  lead_time  arrival_date_year  \\\n0       Resort Hotel            0        342               2015   \n1       Resort Hotel            0        737               2015   \n2       Resort Hotel            0          7               2015   \n3       Resort Hotel            0         13               2015   \n4       Resort Hotel            0         14               2015   \n...              ...          ...        ...                ...   \n119385    City Hotel            0         23               2017   \n119386    City Hotel            0        102               2017   \n119387    City Hotel            0         34               2017   \n119388    City Hotel            0        109               2017   \n119389    City Hotel            0        205               2017   \n\n       arrival_date_month  arrival_date_week_number  \\\n0                    July                        27   \n1                    July                        27   \n2                    July                        27   \n3                    July                        27   \n4                    July                        27   \n...                   ...                       ...   \n119385             August                        35   \n119386             August                        35   \n119387             August                        35   \n119388             August                        35   \n119389             August                        35   \n\n        arrival_date_day_of_month  stays_in_weekend_nights  \\\n0                               1                        0   \n1                               1                        0   \n2                               1                        0   \n3                               1                        0   \n4                               1                        0   \n...                           ...                      ...   \n119385                         30                        2   \n119386                         31                        2   \n119387                         31                        2   \n119388                         31                        2   \n119389                         29                        2   \n\n        stays_in_week_nights  adults  ...  deposit_type  agent company  \\\n0                          0       2  ...    No Deposit    NaN     NaN   \n1                          0       2  ...    No Deposit    NaN     NaN   \n2                          1       1  ...    No Deposit    NaN     NaN   \n3                          1       1  ...    No Deposit  304.0     NaN   \n4                          2       2  ...    No Deposit  240.0     NaN   \n...                      ...     ...  ...           ...    ...     ...   \n119385                     5       2  ...    No Deposit  394.0     NaN   \n119386                     5       3  ...    No Deposit    9.0     NaN   \n119387                     5       2  ...    No Deposit    9.0     NaN   \n119388                     5       2  ...    No Deposit   89.0     NaN   \n119389                     7       2  ...    No Deposit    9.0     NaN   \n\n       days_in_waiting_list customer_type     adr  \\\n0                         0     Transient    0.00   \n1                         0     Transient    0.00   \n2                         0     Transient   75.00   \n3                         0     Transient   75.00   \n4                         0     Transient   98.00   \n...                     ...           ...     ...   \n119385                    0     Transient   96.14   \n119386                    0     Transient  225.43   \n119387                    0     Transient  157.71   \n119388                    0     Transient  104.40   \n119389                    0     Transient  151.20   \n\n        required_car_parking_spaces  total_of_special_requests  \\\n0                                 0                          0   \n1                                 0                          0   \n2                                 0                          0   \n3                                 0                          0   \n4                                 0                          1   \n...                             ...                        ...   \n119385                            0                          0   \n119386                            0                          2   \n119387                            0                          4   \n119388                            0                          0   \n119389                            0                          2   \n\n        reservation_status reservation_status_date  \n0                Check-Out              2015-07-01  \n1                Check-Out              2015-07-01  \n2                Check-Out              2015-07-02  \n3                Check-Out              2015-07-02  \n4                Check-Out              2015-07-03  \n...                    ...                     ...  \n119385           Check-Out              2017-09-06  \n119386           Check-Out              2017-09-07  \n119387           Check-Out              2017-09-07  \n119388           Check-Out              2017-09-07  \n119389           Check-Out              2017-09-07  \n\n[119390 rows x 32 columns]",
      "text/html": "<div>\n<style scoped>\n    .dataframe tbody tr th:only-of-type {\n        vertical-align: middle;\n    }\n\n    .dataframe tbody tr th {\n        vertical-align: top;\n    }\n\n    .dataframe thead th {\n        text-align: right;\n    }\n</style>\n<table border=\"1\" class=\"dataframe\">\n  <thead>\n    <tr style=\"text-align: right;\">\n      <th></th>\n      <th>hotel</th>\n      <th>is_canceled</th>\n      <th>lead_time</th>\n      <th>arrival_date_year</th>\n      <th>arrival_date_month</th>\n      <th>arrival_date_week_number</th>\n      <th>arrival_date_day_of_month</th>\n      <th>stays_in_weekend_nights</th>\n      <th>stays_in_week_nights</th>\n      <th>adults</th>\n      <th>...</th>\n      <th>deposit_type</th>\n      <th>agent</th>\n      <th>company</th>\n      <th>days_in_waiting_list</th>\n      <th>customer_type</th>\n      <th>adr</th>\n      <th>required_car_parking_spaces</th>\n      <th>total_of_special_requests</th>\n      <th>reservation_status</th>\n      <th>reservation_status_date</th>\n    </tr>\n  </thead>\n  <tbody>\n    <tr>\n      <th>0</th>\n      <td>Resort Hotel</td>\n      <td>0</td>\n      <td>342</td>\n      <td>2015</td>\n      <td>July</td>\n      <td>27</td>\n      <td>1</td>\n      <td>0</td>\n      <td>0</td>\n      <td>2</td>\n      <td>...</td>\n      <td>No Deposit</td>\n      <td>NaN</td>\n      <td>NaN</td>\n      <td>0</td>\n      <td>Transient</td>\n      <td>0.00</td>\n      <td>0</td>\n      <td>0</td>\n      <td>Check-Out</td>\n      <td>2015-07-01</td>\n    </tr>\n    <tr>\n      <th>1</th>\n      <td>Resort Hotel</td>\n      <td>0</td>\n      <td>737</td>\n      <td>2015</td>\n      <td>July</td>\n      <td>27</td>\n      <td>1</td>\n      <td>0</td>\n      <td>0</td>\n      <td>2</td>\n      <td>...</td>\n      <td>No Deposit</td>\n      <td>NaN</td>\n      <td>NaN</td>\n      <td>0</td>\n      <td>Transient</td>\n      <td>0.00</td>\n      <td>0</td>\n      <td>0</td>\n      <td>Check-Out</td>\n      <td>2015-07-01</td>\n    </tr>\n    <tr>\n      <th>2</th>\n      <td>Resort Hotel</td>\n      <td>0</td>\n      <td>7</td>\n      <td>2015</td>\n      <td>July</td>\n      <td>27</td>\n      <td>1</td>\n      <td>0</td>\n      <td>1</td>\n      <td>1</td>\n      <td>...</td>\n      <td>No Deposit</td>\n      <td>NaN</td>\n      <td>NaN</td>\n      <td>0</td>\n      <td>Transient</td>\n      <td>75.00</td>\n      <td>0</td>\n      <td>0</td>\n      <td>Check-Out</td>\n      <td>2015-07-02</td>\n    </tr>\n    <tr>\n      <th>3</th>\n      <td>Resort Hotel</td>\n      <td>0</td>\n      <td>13</td>\n      <td>2015</td>\n      <td>July</td>\n      <td>27</td>\n      <td>1</td>\n      <td>0</td>\n      <td>1</td>\n      <td>1</td>\n      <td>...</td>\n      <td>No Deposit</td>\n      <td>304.0</td>\n      <td>NaN</td>\n      <td>0</td>\n      <td>Transient</td>\n      <td>75.00</td>\n      <td>0</td>\n      <td>0</td>\n      <td>Check-Out</td>\n      <td>2015-07-02</td>\n    </tr>\n    <tr>\n      <th>4</th>\n      <td>Resort Hotel</td>\n      <td>0</td>\n      <td>14</td>\n      <td>2015</td>\n      <td>July</td>\n      <td>27</td>\n      <td>1</td>\n      <td>0</td>\n      <td>2</td>\n      <td>2</td>\n      <td>...</td>\n      <td>No Deposit</td>\n      <td>240.0</td>\n      <td>NaN</td>\n      <td>0</td>\n      <td>Transient</td>\n      <td>98.00</td>\n      <td>0</td>\n      <td>1</td>\n      <td>Check-Out</td>\n      <td>2015-07-03</td>\n    </tr>\n    <tr>\n      <th>...</th>\n      <td>...</td>\n      <td>...</td>\n      <td>...</td>\n      <td>...</td>\n      <td>...</td>\n      <td>...</td>\n      <td>...</td>\n      <td>...</td>\n      <td>...</td>\n      <td>...</td>\n      <td>...</td>\n      <td>...</td>\n      <td>...</td>\n      <td>...</td>\n      <td>...</td>\n      <td>...</td>\n      <td>...</td>\n      <td>...</td>\n      <td>...</td>\n      <td>...</td>\n      <td>...</td>\n    </tr>\n    <tr>\n      <th>119385</th>\n      <td>City Hotel</td>\n      <td>0</td>\n      <td>23</td>\n      <td>2017</td>\n      <td>August</td>\n      <td>35</td>\n      <td>30</td>\n      <td>2</td>\n      <td>5</td>\n      <td>2</td>\n      <td>...</td>\n      <td>No Deposit</td>\n      <td>394.0</td>\n      <td>NaN</td>\n      <td>0</td>\n      <td>Transient</td>\n      <td>96.14</td>\n      <td>0</td>\n      <td>0</td>\n      <td>Check-Out</td>\n      <td>2017-09-06</td>\n    </tr>\n    <tr>\n      <th>119386</th>\n      <td>City Hotel</td>\n      <td>0</td>\n      <td>102</td>\n      <td>2017</td>\n      <td>August</td>\n      <td>35</td>\n      <td>31</td>\n      <td>2</td>\n      <td>5</td>\n      <td>3</td>\n      <td>...</td>\n      <td>No Deposit</td>\n      <td>9.0</td>\n      <td>NaN</td>\n      <td>0</td>\n      <td>Transient</td>\n      <td>225.43</td>\n      <td>0</td>\n      <td>2</td>\n      <td>Check-Out</td>\n      <td>2017-09-07</td>\n    </tr>\n    <tr>\n      <th>119387</th>\n      <td>City Hotel</td>\n      <td>0</td>\n      <td>34</td>\n      <td>2017</td>\n      <td>August</td>\n      <td>35</td>\n      <td>31</td>\n      <td>2</td>\n      <td>5</td>\n      <td>2</td>\n      <td>...</td>\n      <td>No Deposit</td>\n      <td>9.0</td>\n      <td>NaN</td>\n      <td>0</td>\n      <td>Transient</td>\n      <td>157.71</td>\n      <td>0</td>\n      <td>4</td>\n      <td>Check-Out</td>\n      <td>2017-09-07</td>\n    </tr>\n    <tr>\n      <th>119388</th>\n      <td>City Hotel</td>\n      <td>0</td>\n      <td>109</td>\n      <td>2017</td>\n      <td>August</td>\n      <td>35</td>\n      <td>31</td>\n      <td>2</td>\n      <td>5</td>\n      <td>2</td>\n      <td>...</td>\n      <td>No Deposit</td>\n      <td>89.0</td>\n      <td>NaN</td>\n      <td>0</td>\n      <td>Transient</td>\n      <td>104.40</td>\n      <td>0</td>\n      <td>0</td>\n      <td>Check-Out</td>\n      <td>2017-09-07</td>\n    </tr>\n    <tr>\n      <th>119389</th>\n      <td>City Hotel</td>\n      <td>0</td>\n      <td>205</td>\n      <td>2017</td>\n      <td>August</td>\n      <td>35</td>\n      <td>29</td>\n      <td>2</td>\n      <td>7</td>\n      <td>2</td>\n      <td>...</td>\n      <td>No Deposit</td>\n      <td>9.0</td>\n      <td>NaN</td>\n      <td>0</td>\n      <td>Transient</td>\n      <td>151.20</td>\n      <td>0</td>\n      <td>2</td>\n      <td>Check-Out</td>\n      <td>2017-09-07</td>\n    </tr>\n  </tbody>\n</table>\n<p>119390 rows × 32 columns</p>\n</div>"
     },
     "execution_count": 4,
     "metadata": {},
     "output_type": "execute_result"
    }
   ],
   "source": [
    "hotel_bookings_df"
   ],
   "metadata": {
    "collapsed": false,
    "pycharm": {
     "name": "#%%\n"
    }
   }
  },
  {
   "cell_type": "markdown",
   "source": [
    "# Información sobre el dataset\n",
    "\n",
    "## Atributos\n",
    "\n",
    "| Variable  | Tipo de Variable  |  Descripción  |\n",
    "|---|---|---|\n",
    "| hotel  | Variable Cualitativa - Texto - Nominal  | Nombre del hotel  |\n",
    "|  is_canceled | Variable Cualitativa - Texto - Nominal  |  Valor que indica si la reserva fue cancelada  |\n",
    "|  lead_time | Variable Cuantitativa - Número - Discreta  | Cantidad de dias entre la reserva y la llegada al hotel  |\n",
    "|  arrival_date_year | Variable Cuantitativa - Número - Discreta ? |  Año de arrivo |\n",
    "| arrival_date_month  | Variable Cualitativa - Texto - Nominal ? |  Mes del arrivo |\n",
    "| arrival_date_week_number  | Variable Cuantitativa - Número - Discreta ?  | Número de la semana del arrivo  |\n",
    "|  arrival_date_day_of_month | Variable Cuantitativa - Número - Discreta ? | Día del mes del arrivo  |\n",
    "|  stays_in_weekend_nights  | Variable Cuantitativa - Número - Discreta  |  Días del fin de semana (Sabado - Domingo) que abarca la reserva |\n",
    "|  stays_in_week_nigths | Variable Cuantitativa - Número - Discreta  | Días de la semana (Lunes a Viernes) que abarca la reserva  |\n",
    "|  adults | Variable Cuantitativa - Número - Discreta  | Cantidad de adultos  |\n",
    "|  children | Variable Cuantitativa - Número - Discreta (En el Dataset aparece como continua)  |  Cantidad de niños. Cabe aclarar que los datos provenientes del dataset tiene tipo float y se debe transformar, ya que una reserva no puede tener 1.3 niños  |\n",
    "| babies  | Variable Cuantitativa - Número - Discreta  | Cantidad de bebes  |\n",
    "|  meal | Variable Cualitativa - Texto - Nominal  |  Tipo de comida reservada (Detalles en Categorias) |\n",
    "|  country | Variable Cualitativa - Texto - Nominal  |  Pais de origen  |\n",
    "| market_segment  | Variable Cualitativa - Texto - Nominal  | Segmento del mercado asignado (Detalles en Categorias)  |\n",
    "| distribution_channel  |   |   |\n",
    "|  is_repeated_guest | Variable Cualitativa - Número - Nominal  | Si el huesped ya se hospedo en el hotel  |\n",
    "|  previous_cancelations |  Variable Cuantitativa - Número - Discreta |  Cantidad de cancelaciones  |\n",
    "|  previous_bookings_not_canceled |  Variable Cuantitativa - Número - Discreta |  Cantidad de veces que no cancelo la reserva  |\n",
    "| reserved_room_type  | Variable Cualitativa - Text - Nominal  | Código del tipo de cuarto reservado  |\n",
    "| booking_changes  |  Variable Cuantitativa - Número - Discreta |  Cantidad de cambios en la reserva desde la fecha de reserva hasta la cancelación o check-in  |\n",
    "| deposit_types  | Variable Cualitativa - Texto - Discreta  | Tipo de depósito que se hizo (Detalles en Categorias)   |\n",
    "| agent  | Variable Cualitativa - Número - Nominal  | ID de la agencia que hizo la reserva   |\n",
    "| company  |  Varaible Cualitativa - Número - Nominal | ID de la compania que hizo la reserva  |\n",
    "| days_in_waiting_list  |  Variable Cuantitativa - Número - Discreta | Número de días que la reserva estuvo en lista de espera hasta ser confirmada  |\n",
    "| customer_type  |  Variable Cualitativa - Texto - Nominal |  Tipo de reserva (Detalles en Categorias) |\n",
    "|  adr |   |   |\n",
    "|  required_car_parking_spaces |  Variable Cuantitativa - Número - Discreta | Cantidad de espacios de estacionamiento para el huesped  |\n",
    "| total_of_special_requests  |  Variable Cuantitativa - Número - Discreta | Cantidad de pedidos especiales que hizo el huesped  |\n",
    "|  reservation_status |  Variable Cualitativa - Texto - Nominal | Estado de la reserva (Detalles en Categorias)  |\n",
    "|  reservation_status_date | Variable Cuantitativa - Número - Continua  | Fecha de la ultima vez que se actualizo reservation_status  |\n",
    "\n",
    "\n",
    "## Categorias\n",
    "- Meal:\n",
    "    - Undefined/SC : No meal package.\n",
    "    - BB : Bed & Breakfast.\n",
    "    - HB : Breakfast and one other meal.\n",
    "    - FB : Breafast, lunch and dinner.\n",
    "- Market Segment:\n",
    "    - TA : Agencias de viaje.\n",
    "    - TO : Operador turístico.\n",
    "- Deposit Type:\n",
    "    - No Deposit : No se hizo un deposito.\n",
    "    - Non Refund : Un deposito se hizo para el valor total de la reseva.\n",
    "    - Refundable: Un deposito se hizo para un valor menor al total de la reserva.\n",
    "- Customer Type:\n",
    "    - Contract : Cuando la reserva esta asociada a un contrato.\n",
    "    - Group : Cuando la reserva esta asocidada a un grupo.\n",
    "    - Transient : Cuando la reserva no esta asociada a un contrato ni a un grupo.\n",
    "    - Transient-party : Cuando la reserva es del tipo transient pero esta asociada a otra reserva transient.\n",
    "- Reservation Status:\n",
    "    - Canceled : La reserva fue cancelada.\n",
    "    - Check-Out : El cliente hizo el check-in y tambien el check-out.\n",
    "    - No-Show : El cliente no hizo el check-in pero tampoco cancelo la reserva."
   ],
   "metadata": {
    "collapsed": false,
    "pycharm": {
     "name": "#%% md\n"
    }
   }
  },
  {
   "cell_type": "markdown",
   "source": [
    "### Analizamos la frecuencia de cada categoria"
   ],
   "metadata": {
    "collapsed": false,
    "pycharm": {
     "name": "#%% md\n"
    }
   }
  },
  {
   "cell_type": "code",
   "execution_count": 5,
   "outputs": [],
   "source": [
    "def group_by_and_count_category(df: pd.DataFrame, column: str) -> pd.DataFrame:\n",
    "    group_df = df.groupby([column])[column].count().reset_index(name='count')\n",
    "    return group_df\n",
    "\n",
    "def display_count_of_categories(df: pd.DataFrame, list_of_columns: List[str]):\n",
    "    for categorical_column in list_of_columns:\n",
    "        display(group_by_and_count_category(df=df, column=categorical_column))"
   ],
   "metadata": {
    "collapsed": false,
    "pycharm": {
     "name": "#%%\n"
    }
   }
  },
  {
   "cell_type": "code",
   "execution_count": 120,
   "outputs": [
    {
     "data": {
      "text/plain": "   is_canceled  count\n0            0  75166\n1            1  44224",
      "text/html": "<div>\n<style scoped>\n    .dataframe tbody tr th:only-of-type {\n        vertical-align: middle;\n    }\n\n    .dataframe tbody tr th {\n        vertical-align: top;\n    }\n\n    .dataframe thead th {\n        text-align: right;\n    }\n</style>\n<table border=\"1\" class=\"dataframe\">\n  <thead>\n    <tr style=\"text-align: right;\">\n      <th></th>\n      <th>is_canceled</th>\n      <th>count</th>\n    </tr>\n  </thead>\n  <tbody>\n    <tr>\n      <th>0</th>\n      <td>0</td>\n      <td>75166</td>\n    </tr>\n    <tr>\n      <th>1</th>\n      <td>1</td>\n      <td>44224</td>\n    </tr>\n  </tbody>\n</table>\n</div>"
     },
     "metadata": {},
     "output_type": "display_data"
    },
    {
     "data": {
      "text/plain": "        meal  count\n0         BB  92310\n1         FB    798\n2         HB  14463\n3         SC  10650\n4  Undefined   1169",
      "text/html": "<div>\n<style scoped>\n    .dataframe tbody tr th:only-of-type {\n        vertical-align: middle;\n    }\n\n    .dataframe tbody tr th {\n        vertical-align: top;\n    }\n\n    .dataframe thead th {\n        text-align: right;\n    }\n</style>\n<table border=\"1\" class=\"dataframe\">\n  <thead>\n    <tr style=\"text-align: right;\">\n      <th></th>\n      <th>meal</th>\n      <th>count</th>\n    </tr>\n  </thead>\n  <tbody>\n    <tr>\n      <th>0</th>\n      <td>BB</td>\n      <td>92310</td>\n    </tr>\n    <tr>\n      <th>1</th>\n      <td>FB</td>\n      <td>798</td>\n    </tr>\n    <tr>\n      <th>2</th>\n      <td>HB</td>\n      <td>14463</td>\n    </tr>\n    <tr>\n      <th>3</th>\n      <td>SC</td>\n      <td>10650</td>\n    </tr>\n    <tr>\n      <th>4</th>\n      <td>Undefined</td>\n      <td>1169</td>\n    </tr>\n  </tbody>\n</table>\n</div>"
     },
     "metadata": {},
     "output_type": "display_data"
    },
    {
     "data": {
      "text/plain": "  market_segment  count\n0       Aviation    237\n1  Complementary    743\n2      Corporate   5295\n3         Direct  12606\n4         Groups  19811\n5  Offline TA/TO  24219\n6      Online TA  56477\n7      Undefined      2",
      "text/html": "<div>\n<style scoped>\n    .dataframe tbody tr th:only-of-type {\n        vertical-align: middle;\n    }\n\n    .dataframe tbody tr th {\n        vertical-align: top;\n    }\n\n    .dataframe thead th {\n        text-align: right;\n    }\n</style>\n<table border=\"1\" class=\"dataframe\">\n  <thead>\n    <tr style=\"text-align: right;\">\n      <th></th>\n      <th>market_segment</th>\n      <th>count</th>\n    </tr>\n  </thead>\n  <tbody>\n    <tr>\n      <th>0</th>\n      <td>Aviation</td>\n      <td>237</td>\n    </tr>\n    <tr>\n      <th>1</th>\n      <td>Complementary</td>\n      <td>743</td>\n    </tr>\n    <tr>\n      <th>2</th>\n      <td>Corporate</td>\n      <td>5295</td>\n    </tr>\n    <tr>\n      <th>3</th>\n      <td>Direct</td>\n      <td>12606</td>\n    </tr>\n    <tr>\n      <th>4</th>\n      <td>Groups</td>\n      <td>19811</td>\n    </tr>\n    <tr>\n      <th>5</th>\n      <td>Offline TA/TO</td>\n      <td>24219</td>\n    </tr>\n    <tr>\n      <th>6</th>\n      <td>Online TA</td>\n      <td>56477</td>\n    </tr>\n    <tr>\n      <th>7</th>\n      <td>Undefined</td>\n      <td>2</td>\n    </tr>\n  </tbody>\n</table>\n</div>"
     },
     "metadata": {},
     "output_type": "display_data"
    },
    {
     "data": {
      "text/plain": "  reserved_room_type  count\n0                  A  85994\n1                  B   1118\n2                  C    932\n3                  D  19201\n4                  E   6535\n5                  F   2897\n6                  G   2094\n7                  H    601\n8                  L      6\n9                  P     12",
      "text/html": "<div>\n<style scoped>\n    .dataframe tbody tr th:only-of-type {\n        vertical-align: middle;\n    }\n\n    .dataframe tbody tr th {\n        vertical-align: top;\n    }\n\n    .dataframe thead th {\n        text-align: right;\n    }\n</style>\n<table border=\"1\" class=\"dataframe\">\n  <thead>\n    <tr style=\"text-align: right;\">\n      <th></th>\n      <th>reserved_room_type</th>\n      <th>count</th>\n    </tr>\n  </thead>\n  <tbody>\n    <tr>\n      <th>0</th>\n      <td>A</td>\n      <td>85994</td>\n    </tr>\n    <tr>\n      <th>1</th>\n      <td>B</td>\n      <td>1118</td>\n    </tr>\n    <tr>\n      <th>2</th>\n      <td>C</td>\n      <td>932</td>\n    </tr>\n    <tr>\n      <th>3</th>\n      <td>D</td>\n      <td>19201</td>\n    </tr>\n    <tr>\n      <th>4</th>\n      <td>E</td>\n      <td>6535</td>\n    </tr>\n    <tr>\n      <th>5</th>\n      <td>F</td>\n      <td>2897</td>\n    </tr>\n    <tr>\n      <th>6</th>\n      <td>G</td>\n      <td>2094</td>\n    </tr>\n    <tr>\n      <th>7</th>\n      <td>H</td>\n      <td>601</td>\n    </tr>\n    <tr>\n      <th>8</th>\n      <td>L</td>\n      <td>6</td>\n    </tr>\n    <tr>\n      <th>9</th>\n      <td>P</td>\n      <td>12</td>\n    </tr>\n  </tbody>\n</table>\n</div>"
     },
     "metadata": {},
     "output_type": "display_data"
    },
    {
     "data": {
      "text/plain": "  deposit_type   count\n0   No Deposit  104641\n1   Non Refund   14587\n2   Refundable     162",
      "text/html": "<div>\n<style scoped>\n    .dataframe tbody tr th:only-of-type {\n        vertical-align: middle;\n    }\n\n    .dataframe tbody tr th {\n        vertical-align: top;\n    }\n\n    .dataframe thead th {\n        text-align: right;\n    }\n</style>\n<table border=\"1\" class=\"dataframe\">\n  <thead>\n    <tr style=\"text-align: right;\">\n      <th></th>\n      <th>deposit_type</th>\n      <th>count</th>\n    </tr>\n  </thead>\n  <tbody>\n    <tr>\n      <th>0</th>\n      <td>No Deposit</td>\n      <td>104641</td>\n    </tr>\n    <tr>\n      <th>1</th>\n      <td>Non Refund</td>\n      <td>14587</td>\n    </tr>\n    <tr>\n      <th>2</th>\n      <td>Refundable</td>\n      <td>162</td>\n    </tr>\n  </tbody>\n</table>\n</div>"
     },
     "metadata": {},
     "output_type": "display_data"
    },
    {
     "data": {
      "text/plain": "     customer_type  count\n0         Contract   4076\n1            Group    577\n2        Transient  89613\n3  Transient-Party  25124",
      "text/html": "<div>\n<style scoped>\n    .dataframe tbody tr th:only-of-type {\n        vertical-align: middle;\n    }\n\n    .dataframe tbody tr th {\n        vertical-align: top;\n    }\n\n    .dataframe thead th {\n        text-align: right;\n    }\n</style>\n<table border=\"1\" class=\"dataframe\">\n  <thead>\n    <tr style=\"text-align: right;\">\n      <th></th>\n      <th>customer_type</th>\n      <th>count</th>\n    </tr>\n  </thead>\n  <tbody>\n    <tr>\n      <th>0</th>\n      <td>Contract</td>\n      <td>4076</td>\n    </tr>\n    <tr>\n      <th>1</th>\n      <td>Group</td>\n      <td>577</td>\n    </tr>\n    <tr>\n      <th>2</th>\n      <td>Transient</td>\n      <td>89613</td>\n    </tr>\n    <tr>\n      <th>3</th>\n      <td>Transient-Party</td>\n      <td>25124</td>\n    </tr>\n  </tbody>\n</table>\n</div>"
     },
     "metadata": {},
     "output_type": "display_data"
    },
    {
     "data": {
      "text/plain": "          hotel  count\n0    City Hotel  79330\n1  Resort Hotel  40060",
      "text/html": "<div>\n<style scoped>\n    .dataframe tbody tr th:only-of-type {\n        vertical-align: middle;\n    }\n\n    .dataframe tbody tr th {\n        vertical-align: top;\n    }\n\n    .dataframe thead th {\n        text-align: right;\n    }\n</style>\n<table border=\"1\" class=\"dataframe\">\n  <thead>\n    <tr style=\"text-align: right;\">\n      <th></th>\n      <th>hotel</th>\n      <th>count</th>\n    </tr>\n  </thead>\n  <tbody>\n    <tr>\n      <th>0</th>\n      <td>City Hotel</td>\n      <td>79330</td>\n    </tr>\n    <tr>\n      <th>1</th>\n      <td>Resort Hotel</td>\n      <td>40060</td>\n    </tr>\n  </tbody>\n</table>\n</div>"
     },
     "metadata": {},
     "output_type": "display_data"
    },
    {
     "data": {
      "text/plain": "  reservation_status  count\n0           Canceled  43017\n1          Check-Out  75166\n2            No-Show   1207",
      "text/html": "<div>\n<style scoped>\n    .dataframe tbody tr th:only-of-type {\n        vertical-align: middle;\n    }\n\n    .dataframe tbody tr th {\n        vertical-align: top;\n    }\n\n    .dataframe thead th {\n        text-align: right;\n    }\n</style>\n<table border=\"1\" class=\"dataframe\">\n  <thead>\n    <tr style=\"text-align: right;\">\n      <th></th>\n      <th>reservation_status</th>\n      <th>count</th>\n    </tr>\n  </thead>\n  <tbody>\n    <tr>\n      <th>0</th>\n      <td>Canceled</td>\n      <td>43017</td>\n    </tr>\n    <tr>\n      <th>1</th>\n      <td>Check-Out</td>\n      <td>75166</td>\n    </tr>\n    <tr>\n      <th>2</th>\n      <td>No-Show</td>\n      <td>1207</td>\n    </tr>\n  </tbody>\n</table>\n</div>"
     },
     "metadata": {},
     "output_type": "display_data"
    },
    {
     "data": {
      "text/plain": "   assigned_room_type  count\n0                   A  74053\n1                   B   2163\n2                   C   2375\n3                   D  25322\n4                   E   7806\n5                   F   3751\n6                   G   2553\n7                   H    712\n8                   I    363\n9                   K    279\n10                  L      1\n11                  P     12",
      "text/html": "<div>\n<style scoped>\n    .dataframe tbody tr th:only-of-type {\n        vertical-align: middle;\n    }\n\n    .dataframe tbody tr th {\n        vertical-align: top;\n    }\n\n    .dataframe thead th {\n        text-align: right;\n    }\n</style>\n<table border=\"1\" class=\"dataframe\">\n  <thead>\n    <tr style=\"text-align: right;\">\n      <th></th>\n      <th>assigned_room_type</th>\n      <th>count</th>\n    </tr>\n  </thead>\n  <tbody>\n    <tr>\n      <th>0</th>\n      <td>A</td>\n      <td>74053</td>\n    </tr>\n    <tr>\n      <th>1</th>\n      <td>B</td>\n      <td>2163</td>\n    </tr>\n    <tr>\n      <th>2</th>\n      <td>C</td>\n      <td>2375</td>\n    </tr>\n    <tr>\n      <th>3</th>\n      <td>D</td>\n      <td>25322</td>\n    </tr>\n    <tr>\n      <th>4</th>\n      <td>E</td>\n      <td>7806</td>\n    </tr>\n    <tr>\n      <th>5</th>\n      <td>F</td>\n      <td>3751</td>\n    </tr>\n    <tr>\n      <th>6</th>\n      <td>G</td>\n      <td>2553</td>\n    </tr>\n    <tr>\n      <th>7</th>\n      <td>H</td>\n      <td>712</td>\n    </tr>\n    <tr>\n      <th>8</th>\n      <td>I</td>\n      <td>363</td>\n    </tr>\n    <tr>\n      <th>9</th>\n      <td>K</td>\n      <td>279</td>\n    </tr>\n    <tr>\n      <th>10</th>\n      <td>L</td>\n      <td>1</td>\n    </tr>\n    <tr>\n      <th>11</th>\n      <td>P</td>\n      <td>12</td>\n    </tr>\n  </tbody>\n</table>\n</div>"
     },
     "metadata": {},
     "output_type": "display_data"
    },
    {
     "data": {
      "text/plain": "   arrival_date_month  count\n0               April  11089\n1              August  13877\n2            December   6780\n3            February   8068\n4             January   5929\n5                July  12661\n6                June  10939\n7               March   9794\n8                 May  11791\n9            November   6794\n10            October  11160\n11          September  10508",
      "text/html": "<div>\n<style scoped>\n    .dataframe tbody tr th:only-of-type {\n        vertical-align: middle;\n    }\n\n    .dataframe tbody tr th {\n        vertical-align: top;\n    }\n\n    .dataframe thead th {\n        text-align: right;\n    }\n</style>\n<table border=\"1\" class=\"dataframe\">\n  <thead>\n    <tr style=\"text-align: right;\">\n      <th></th>\n      <th>arrival_date_month</th>\n      <th>count</th>\n    </tr>\n  </thead>\n  <tbody>\n    <tr>\n      <th>0</th>\n      <td>April</td>\n      <td>11089</td>\n    </tr>\n    <tr>\n      <th>1</th>\n      <td>August</td>\n      <td>13877</td>\n    </tr>\n    <tr>\n      <th>2</th>\n      <td>December</td>\n      <td>6780</td>\n    </tr>\n    <tr>\n      <th>3</th>\n      <td>February</td>\n      <td>8068</td>\n    </tr>\n    <tr>\n      <th>4</th>\n      <td>January</td>\n      <td>5929</td>\n    </tr>\n    <tr>\n      <th>5</th>\n      <td>July</td>\n      <td>12661</td>\n    </tr>\n    <tr>\n      <th>6</th>\n      <td>June</td>\n      <td>10939</td>\n    </tr>\n    <tr>\n      <th>7</th>\n      <td>March</td>\n      <td>9794</td>\n    </tr>\n    <tr>\n      <th>8</th>\n      <td>May</td>\n      <td>11791</td>\n    </tr>\n    <tr>\n      <th>9</th>\n      <td>November</td>\n      <td>6794</td>\n    </tr>\n    <tr>\n      <th>10</th>\n      <td>October</td>\n      <td>11160</td>\n    </tr>\n    <tr>\n      <th>11</th>\n      <td>September</td>\n      <td>10508</td>\n    </tr>\n  </tbody>\n</table>\n</div>"
     },
     "metadata": {},
     "output_type": "display_data"
    },
    {
     "data": {
      "text/plain": "    country  count\n0       ABW      2\n1       AGO    362\n2       AIA      1\n3       ALB     12\n4       AND      7\n..      ...    ...\n172     VGB      1\n173     VNM      8\n174     ZAF     80\n175     ZMB      2\n176     ZWE      4\n\n[177 rows x 2 columns]",
      "text/html": "<div>\n<style scoped>\n    .dataframe tbody tr th:only-of-type {\n        vertical-align: middle;\n    }\n\n    .dataframe tbody tr th {\n        vertical-align: top;\n    }\n\n    .dataframe thead th {\n        text-align: right;\n    }\n</style>\n<table border=\"1\" class=\"dataframe\">\n  <thead>\n    <tr style=\"text-align: right;\">\n      <th></th>\n      <th>country</th>\n      <th>count</th>\n    </tr>\n  </thead>\n  <tbody>\n    <tr>\n      <th>0</th>\n      <td>ABW</td>\n      <td>2</td>\n    </tr>\n    <tr>\n      <th>1</th>\n      <td>AGO</td>\n      <td>362</td>\n    </tr>\n    <tr>\n      <th>2</th>\n      <td>AIA</td>\n      <td>1</td>\n    </tr>\n    <tr>\n      <th>3</th>\n      <td>ALB</td>\n      <td>12</td>\n    </tr>\n    <tr>\n      <th>4</th>\n      <td>AND</td>\n      <td>7</td>\n    </tr>\n    <tr>\n      <th>...</th>\n      <td>...</td>\n      <td>...</td>\n    </tr>\n    <tr>\n      <th>172</th>\n      <td>VGB</td>\n      <td>1</td>\n    </tr>\n    <tr>\n      <th>173</th>\n      <td>VNM</td>\n      <td>8</td>\n    </tr>\n    <tr>\n      <th>174</th>\n      <td>ZAF</td>\n      <td>80</td>\n    </tr>\n    <tr>\n      <th>175</th>\n      <td>ZMB</td>\n      <td>2</td>\n    </tr>\n    <tr>\n      <th>176</th>\n      <td>ZWE</td>\n      <td>4</td>\n    </tr>\n  </tbody>\n</table>\n<p>177 rows × 2 columns</p>\n</div>"
     },
     "metadata": {},
     "output_type": "display_data"
    },
    {
     "data": {
      "text/plain": "  distribution_channel  count\n0            Corporate   6677\n1               Direct  14645\n2                  GDS    193\n3                TA/TO  97870\n4            Undefined      5",
      "text/html": "<div>\n<style scoped>\n    .dataframe tbody tr th:only-of-type {\n        vertical-align: middle;\n    }\n\n    .dataframe tbody tr th {\n        vertical-align: top;\n    }\n\n    .dataframe thead th {\n        text-align: right;\n    }\n</style>\n<table border=\"1\" class=\"dataframe\">\n  <thead>\n    <tr style=\"text-align: right;\">\n      <th></th>\n      <th>distribution_channel</th>\n      <th>count</th>\n    </tr>\n  </thead>\n  <tbody>\n    <tr>\n      <th>0</th>\n      <td>Corporate</td>\n      <td>6677</td>\n    </tr>\n    <tr>\n      <th>1</th>\n      <td>Direct</td>\n      <td>14645</td>\n    </tr>\n    <tr>\n      <th>2</th>\n      <td>GDS</td>\n      <td>193</td>\n    </tr>\n    <tr>\n      <th>3</th>\n      <td>TA/TO</td>\n      <td>97870</td>\n    </tr>\n    <tr>\n      <th>4</th>\n      <td>Undefined</td>\n      <td>5</td>\n    </tr>\n  </tbody>\n</table>\n</div>"
     },
     "metadata": {},
     "output_type": "display_data"
    }
   ],
   "source": [
    "list_of_category_columns = ['is_canceled', 'meal', 'market_segment', 'reserved_room_type', 'deposit_type', 'customer_type', 'hotel', 'reservation_status', 'assigned_room_type', 'arrival_date_month', 'country', 'distribution_channel']\n",
    "display_count_of_categories(df=hotel_bookings_df, list_of_columns=list_of_category_columns)"
   ],
   "metadata": {
    "collapsed": false,
    "pycharm": {
     "name": "#%%\n"
    }
   }
  },
  {
   "cell_type": "markdown",
   "source": [
    "### Analizamos la cantidad de registros vacios"
   ],
   "metadata": {
    "collapsed": false,
    "pycharm": {
     "name": "#%% md\n"
    }
   }
  },
  {
   "cell_type": "code",
   "execution_count": 121,
   "outputs": [
    {
     "data": {
      "text/plain": "hotel                                  0\nis_canceled                            0\nlead_time                              0\narrival_date_year                      0\narrival_date_month                     0\narrival_date_week_number               0\narrival_date_day_of_month              0\nstays_in_weekend_nights                0\nstays_in_week_nights                   0\nadults                                 0\nchildren                               4\nbabies                                 0\nmeal                                   0\ncountry                              488\nmarket_segment                         0\ndistribution_channel                   0\nis_repeated_guest                      0\nprevious_cancellations                 0\nprevious_bookings_not_canceled         0\nreserved_room_type                     0\nassigned_room_type                     0\nbooking_changes                        0\ndeposit_type                           0\nagent                              16340\ncompany                           112593\ndays_in_waiting_list                   0\ncustomer_type                          0\nadr                                    0\nrequired_car_parking_spaces            0\ntotal_of_special_requests              0\nreservation_status                     0\nreservation_status_date                0\ndtype: int64"
     },
     "metadata": {},
     "output_type": "display_data"
    }
   ],
   "source": [
    "display(hotel_bookings_df.isnull().sum())"
   ],
   "metadata": {
    "collapsed": false,
    "pycharm": {
     "name": "#%%\n"
    }
   }
  },
  {
   "cell_type": "code",
   "execution_count": 122,
   "outputs": [],
   "source": [
    "def calculate_and_display_percentage_of_null_values(df: pd.DataFrame):\n",
    "    number_of_rows = len(df)\n",
    "    count_of_nulls: pd.Series = df.isnull().sum()\n",
    "\n",
    "    for index, count in count_of_nulls.iteritems():\n",
    "        if count != 0:\n",
    "            print('{} percentage of nulls: {} - Total of nulls: {}'.format(index, (count / number_of_rows) * 100, count ))"
   ],
   "metadata": {
    "collapsed": false,
    "pycharm": {
     "name": "#%%\n"
    }
   }
  },
  {
   "cell_type": "code",
   "execution_count": 123,
   "outputs": [
    {
     "name": "stdout",
     "output_type": "stream",
     "text": [
      "children percentage of nulls: 0.003350364352123293 - Total of nulls: 4\n",
      "country percentage of nulls: 0.40874445095904177 - Total of nulls: 488\n",
      "agent percentage of nulls: 13.686238378423655 - Total of nulls: 16340\n",
      "company percentage of nulls: 94.30689337465449 - Total of nulls: 112593\n"
     ]
    }
   ],
   "source": [
    "calculate_and_display_percentage_of_null_values(hotel_bookings_df)"
   ],
   "metadata": {
    "collapsed": false,
    "pycharm": {
     "name": "#%%\n"
    }
   }
  },
  {
   "cell_type": "markdown",
   "source": [
    "Analizando la cantidad de nulos que tiene cada una de las columnas, podemos distinguir que la cantidad de nulos de las columnas 'children' y 'country' son estadisticamente despreciable. A estas filas nulas podemos eliminarlas, ya que perder un 0.4 % de la data no nos va a hacer perder demasiada información. A diferencia de las columnas mencionadas anteriormente, las columnas 'agent' y 'company' tienen un porcentaje más alto de nulos que no podemos ignorar. Vamos a seguir analizando la correlación que tienen ambas columnas con la columna a predecir (en este caso 'is_canceled') para observar que tanto peso tiene en nuestro modelo."
   ],
   "metadata": {
    "collapsed": false,
    "pycharm": {
     "name": "#%% md\n"
    }
   }
  },
  {
   "cell_type": "markdown",
   "source": [
    "## Análisis de correlación"
   ],
   "metadata": {
    "collapsed": false,
    "pycharm": {
     "name": "#%% md\n"
    }
   }
  },
  {
   "cell_type": "code",
   "execution_count": 124,
   "outputs": [
    {
     "data": {
      "text/plain": "<AxesSubplot:>"
     },
     "execution_count": 124,
     "metadata": {},
     "output_type": "execute_result"
    },
    {
     "data": {
      "text/plain": "<Figure size 432x288 with 2 Axes>",
      "image/png": "[encoded data removed]"
     },
     "metadata": {
      "needs_background": "light"
     },
     "output_type": "display_data"
    }
   ],
   "source": [
    "correlation_df = hotel_bookings_df[['is_canceled', 'agent', 'company']].corr()\n",
    "sns.heatmap(correlation_df, linewidths=0.5, annot=True)"
   ],
   "metadata": {
    "collapsed": false,
    "pycharm": {
     "name": "#%%\n"
    }
   }
  },
  {
   "cell_type": "markdown",
   "source": [
    "Como se ve en el Heathmap, la correlación que hay entre 'agent' y 'company' con 'is_canceled' es casi nula. Entonces, ya que estas columnas no tienen una correlación significante con la columna a predecir, decidimos dropearlas"
   ],
   "metadata": {
    "collapsed": false,
    "pycharm": {
     "name": "#%% md\n"
    }
   }
  },
  {
   "cell_type": "markdown",
   "source": [
    "## Variables con más correlación con 'is_canceled'"
   ],
   "metadata": {
    "collapsed": false,
    "pycharm": {
     "name": "#%% md\n"
    }
   }
  },
  {
   "cell_type": "code",
   "execution_count": 125,
   "outputs": [],
   "source": [
    "def get_biggest_correlations_for_column(df: pd.DataFrame, column: str, max_elements: int) -> pd.DataFrame:\n",
    "    corr_df = df.corr()[column].sort_values(ascending=False)\n",
    "    corr_df = corr_df.iloc[1:max_elements]\n",
    "    corr_df.name = f'{column}_corr'\n",
    "\n",
    "    return corr_df"
   ],
   "metadata": {
    "collapsed": false,
    "pycharm": {
     "name": "#%%\n"
    }
   }
  },
  {
   "cell_type": "code",
   "execution_count": 126,
   "outputs": [
    {
     "data": {
      "text/plain": "lead_time                 0.293123\nprevious_cancellations    0.110133\nadults                    0.060017\ndays_in_waiting_list      0.054186\nName: is_canceled_corr, dtype: float64"
     },
     "execution_count": 126,
     "metadata": {},
     "output_type": "execute_result"
    }
   ],
   "source": [
    "correlation_series = get_biggest_correlations_for_column(df=hotel_bookings_df, column='is_canceled', max_elements=5)\n",
    "correlation_series"
   ],
   "metadata": {
    "collapsed": false,
    "pycharm": {
     "name": "#%%\n"
    }
   }
  },
  {
   "cell_type": "code",
   "execution_count": 127,
   "outputs": [],
   "source": [
    "def display_scatter_plot(df: pd.DataFrame, x_column : str, y_column: str):\n",
    "    df.plot.scatter(x=x_column, y=y_column)"
   ],
   "metadata": {
    "collapsed": false,
    "pycharm": {
     "name": "#%%\n"
    }
   }
  },
  {
   "cell_type": "code",
   "execution_count": 128,
   "outputs": [
    {
     "data": {
      "text/plain": "<Figure size 432x288 with 1 Axes>",
      "image/png": "[encoded data removed]"
     },
     "metadata": {
      "needs_background": "light"
     },
     "output_type": "display_data"
    },
    {
     "data": {
      "text/plain": "<Figure size 432x288 with 1 Axes>",
      "image/png": "[encoded data removed]"
     },
     "metadata": {
      "needs_background": "light"
     },
     "output_type": "display_data"
    },
    {
     "data": {
      "text/plain": "<Figure size 432x288 with 1 Axes>",
      "image/png": "[encoded data removed]"
     },
     "metadata": {
      "needs_background": "light"
     },
     "output_type": "display_data"
    },
    {
     "data": {
      "text/plain": "<Figure size 432x288 with 1 Axes>",
      "image/png": "[encoded data removed]"
     },
     "metadata": {
      "needs_background": "light"
     },
     "output_type": "display_data"
    }
   ],
   "source": [
    "for index, _ in correlation_series.iteritems():\n",
    "    display_scatter_plot(df=hotel_bookings_df, x_column=index, y_column='is_canceled')"
   ],
   "metadata": {
    "collapsed": false,
    "pycharm": {
     "name": "#%%\n"
    }
   }
  },
  {
   "cell_type": "markdown",
   "source": [
    "## Limpieza de datos"
   ],
   "metadata": {
    "collapsed": false,
    "pycharm": {
     "name": "#%% md\n"
    }
   }
  },
  {
   "cell_type": "code",
   "execution_count": 129,
   "outputs": [],
   "source": [
    "def create_category_columns(df: pd.DataFrame, list_of_columns: List[str]) -> pd.DataFrame:\n",
    "    for element in list_of_columns:\n",
    "        df[element] = pd.Categorical(df[element])\n",
    "        df[element] = df[element].cat.codes\n",
    "\n",
    "    return df"
   ],
   "metadata": {
    "collapsed": false,
    "pycharm": {
     "name": "#%%\n"
    }
   }
  },
  {
   "cell_type": "code",
   "execution_count": 135,
   "outputs": [
    {
     "data": {
      "text/plain": "hotel                             0\nis_canceled                       0\nlead_time                         0\narrival_date_year                 0\narrival_date_month                0\narrival_date_week_number          0\narrival_date_day_of_month         0\nstays_in_weekend_nights           0\nstays_in_week_nights              0\nadults                            0\nchildren                          0\nbabies                            0\nmeal                              0\ncountry                           0\nmarket_segment                    0\ndistribution_channel              0\nis_repeated_guest                 0\nprevious_cancellations            0\nprevious_bookings_not_canceled    0\nreserved_room_type                0\nassigned_room_type                0\nbooking_changes                   0\ndeposit_type                      0\ndays_in_waiting_list              0\ncustomer_type                     0\nadr                               0\nrequired_car_parking_spaces       0\ntotal_of_special_requests         0\nreservation_status                0\nreservation_status_date           0\ndtype: int64"
     },
     "metadata": {},
     "output_type": "display_data"
    },
    {
     "data": {
      "text/plain": "hotel                                int8\nis_canceled                          int8\nlead_time                           int64\narrival_date_year                   int64\narrival_date_month                   int8\narrival_date_week_number            int64\narrival_date_day_of_month           int64\nstays_in_weekend_nights             int64\nstays_in_week_nights                int64\nadults                              int64\nchildren                          float64\nbabies                              int64\nmeal                                 int8\ncountry                             int16\nmarket_segment                       int8\ndistribution_channel                 int8\nis_repeated_guest                   int64\nprevious_cancellations              int64\nprevious_bookings_not_canceled      int64\nreserved_room_type                   int8\nassigned_room_type                   int8\nbooking_changes                     int64\ndeposit_type                         int8\ndays_in_waiting_list                int64\ncustomer_type                        int8\nadr                               float64\nrequired_car_parking_spaces         int64\ntotal_of_special_requests           int64\nreservation_status                   int8\nreservation_status_date             int16\ndtype: object"
     },
     "execution_count": 135,
     "metadata": {},
     "output_type": "execute_result"
    }
   ],
   "source": [
    "NOT_USEFUL_COLUMNS = ['agent', 'company']\n",
    "COLUMNS_WITH_NULLS_TO_DROP = ['children', 'country']\n",
    "list_of_category_columns = ['is_canceled', 'meal', 'market_segment', 'reserved_room_type', 'deposit_type', 'customer_type', 'hotel', 'reservation_status', 'assigned_room_type', 'arrival_date_month', 'country', 'distribution_channel', 'reservation_status_date']\n",
    "\n",
    "\n",
    "cleaned_df = hotel_bookings_df.drop(columns=['agent', 'company'])\n",
    "cleaned_df = cleaned_df.dropna(subset=COLUMNS_WITH_NULLS_TO_DROP)\n",
    "\n",
    "cleaned_df = create_category_columns(df=cleaned_df, list_of_columns=list_of_category_columns)\n",
    "display(cleaned_df.isnull().sum())\n",
    "cleaned_df.dtypes"
   ],
   "metadata": {
    "collapsed": false,
    "pycharm": {
     "name": "#%%\n"
    }
   }
  },
  {
   "cell_type": "markdown",
   "source": [
    "## Parte 2"
   ],
   "metadata": {
    "collapsed": false,
    "pycharm": {
     "name": "#%% md\n"
    }
   }
  },
  {
   "cell_type": "code",
   "execution_count": 136,
   "outputs": [],
   "source": [
    "# Separo target y features\n",
    "\n",
    "target = 'is_canceled'\n",
    "list_of_features = list(cleaned_df.columns)\n",
    "list_of_features.remove(target)"
   ],
   "metadata": {
    "collapsed": false,
    "pycharm": {
     "name": "#%%\n"
    }
   }
  },
  {
   "cell_type": "code",
   "execution_count": 137,
   "outputs": [],
   "source": [
    "# Separo dataset en dataset de prueba y entrenamiento\n",
    "\n",
    "x_train, x_test, y_train, y_test = train_test_split(cleaned_df[list_of_features].values, cleaned_df[target].values, test_size=0.2, random_state=1421, stratify=cleaned_df[target].values)"
   ],
   "metadata": {
    "collapsed": false,
    "pycharm": {
     "name": "#%%\n"
    }
   }
  },
  {
   "cell_type": "code",
   "execution_count": 138,
   "outputs": [],
   "source": [
    "K_FOLDS = 10\n",
    "N_ITERS = 30\n",
    "kfold = StratifiedKFold(n_splits=K_FOLDS)\n",
    "\n",
    "base_tree = DecisionTreeClassifier()\n",
    "\n",
    "\n",
    "params_grid = {'criterion': ['gini', 'entropy'], 'ccp_alpha': np.linspace(0,0.05, N_ITERS), 'max_depth': list(range(1,10))}\n",
    "\n",
    "scorer_func = make_scorer(f1_score)"
   ],
   "metadata": {
    "collapsed": false,
    "pycharm": {
     "name": "#%%\n"
    }
   }
  },
  {
   "cell_type": "code",
   "execution_count": 155,
   "outputs": [
    {
     "data": {
      "text/plain": "RandomizedSearchCV(error_score='raise', estimator=DecisionTreeClassifier(),\n                   n_iter=30,\n                   param_distributions={'ccp_alpha': array([0.        , 0.00172414, 0.00344828, 0.00517241, 0.00689655,\n       0.00862069, 0.01034483, 0.01206897, 0.0137931 , 0.01551724,\n       0.01724138, 0.01896552, 0.02068966, 0.02241379, 0.02413793,\n       0.02586207, 0.02758621, 0.02931034, 0.03103448, 0.03275862,\n       0.03448276, 0.0362069 , 0.03793103, 0.03965517, 0.04137931,\n       0.04310345, 0.04482759, 0.04655172, 0.04827586, 0.05      ]),\n                                        'criterion': ['gini', 'entropy'],\n                                        'max_depth': [1, 2, 3, 4, 5, 6, 7, 8,\n                                                      9]},\n                   scoring=make_scorer(f1_score))",
      "text/html": "<style>#sk-container-id-3 {color: black;background-color: white;}#sk-container-id-3 pre{padding: 0;}#sk-container-id-3 div.sk-toggleable {background-color: white;}#sk-container-id-3 label.sk-toggleable__label {cursor: pointer;display: block;width: 100%;margin-bottom: 0;padding: 0.3em;box-sizing: border-box;text-align: center;}#sk-container-id-3 label.sk-toggleable__label-arrow:before {content: \"▸\";float: left;margin-right: 0.25em;color: #696969;}#sk-container-id-3 label.sk-toggleable__label-arrow:hover:before {color: black;}#sk-container-id-3 div.sk-estimator:hover label.sk-toggleable__label-arrow:before {color: black;}#sk-container-id-3 div.sk-toggleable__content {max-height: 0;max-width: 0;overflow: hidden;text-align: left;background-color: #f0f8ff;}#sk-container-id-3 div.sk-toggleable__content pre {margin: 0.2em;color: black;border-radius: 0.25em;background-color: #f0f8ff;}#sk-container-id-3 input.sk-toggleable__control:checked~div.sk-toggleable__content {max-height: 200px;max-width: 100%;overflow: auto;}#sk-container-id-3 input.sk-toggleable__control:checked~label.sk-toggleable__label-arrow:before {content: \"▾\";}#sk-container-id-3 div.sk-estimator input.sk-toggleable__control:checked~label.sk-toggleable__label {background-color: #d4ebff;}#sk-container-id-3 div.sk-label input.sk-toggleable__control:checked~label.sk-toggleable__label {background-color: #d4ebff;}#sk-container-id-3 input.sk-hidden--visually {border: 0;clip: rect(1px 1px 1px 1px);clip: rect(1px, 1px, 1px, 1px);height: 1px;margin: -1px;overflow: hidden;padding: 0;position: absolute;width: 1px;}#sk-container-id-3 div.sk-estimator {font-family: monospace;background-color: #f0f8ff;border: 1px dotted black;border-radius: 0.25em;box-sizing: border-box;margin-bottom: 0.5em;}#sk-container-id-3 div.sk-estimator:hover {background-color: #d4ebff;}#sk-container-id-3 div.sk-parallel-item::after {content: \"\";width: 100%;border-bottom: 1px solid gray;flex-grow: 1;}#sk-container-id-3 div.sk-label:hover label.sk-toggleable__label {background-color: #d4ebff;}#sk-container-id-3 div.sk-serial::before {content: \"\";position: absolute;border-left: 1px solid gray;box-sizing: border-box;top: 0;bottom: 0;left: 50%;z-index: 0;}#sk-container-id-3 div.sk-serial {display: flex;flex-direction: column;align-items: center;background-color: white;padding-right: 0.2em;padding-left: 0.2em;position: relative;}#sk-container-id-3 div.sk-item {position: relative;z-index: 1;}#sk-container-id-3 div.sk-parallel {display: flex;align-items: stretch;justify-content: center;background-color: white;position: relative;}#sk-container-id-3 div.sk-item::before, #sk-container-id-3 div.sk-parallel-item::before {content: \"\";position: absolute;border-left: 1px solid gray;box-sizing: border-box;top: 0;bottom: 0;left: 50%;z-index: -1;}#sk-container-id-3 div.sk-parallel-item {display: flex;flex-direction: column;z-index: 1;position: relative;background-color: white;}#sk-container-id-3 div.sk-parallel-item:first-child::after {align-self: flex-end;width: 50%;}#sk-container-id-3 div.sk-parallel-item:last-child::after {align-self: flex-start;width: 50%;}#sk-container-id-3 div.sk-parallel-item:only-child::after {width: 0;}#sk-container-id-3 div.sk-dashed-wrapped {border: 1px dashed gray;margin: 0 0.4em 0.5em 0.4em;box-sizing: border-box;padding-bottom: 0.4em;background-color: white;}#sk-container-id-3 div.sk-label label {font-family: monospace;font-weight: bold;display: inline-block;line-height: 1.2em;}#sk-container-id-3 div.sk-label-container {text-align: center;}#sk-container-id-3 div.sk-container {/* jupyter's `normalize.less` sets `[hidden] { display: none; }` but bootstrap.min.css set `[hidden] { display: none !important; }` so we also need the `!important` here to be able to override the default hidden behavior on the sphinx rendered scikit-learn.org. See: https://github.com/scikit-learn/scikit-learn/issues/21755 */display: inline-block !important;position: relative;}#sk-container-id-3 div.sk-text-repr-fallback {display: none;}</style><div id=\"sk-container-id-3\" class=\"sk-top-container\"><div class=\"sk-text-repr-fallback\"><pre>RandomizedSearchCV(error_score=&#x27;raise&#x27;, estimator=DecisionTreeClassifier(),\n                   n_iter=30,\n                   param_distributions={&#x27;ccp_alpha&#x27;: array([0.        , 0.00172414, 0.00344828, 0.00517241, 0.00689655,\n       0.00862069, 0.01034483, 0.01206897, 0.0137931 , 0.01551724,\n       0.01724138, 0.01896552, 0.02068966, 0.02241379, 0.02413793,\n       0.02586207, 0.02758621, 0.02931034, 0.03103448, 0.03275862,\n       0.03448276, 0.0362069 , 0.03793103, 0.03965517, 0.04137931,\n       0.04310345, 0.04482759, 0.04655172, 0.04827586, 0.05      ]),\n                                        &#x27;criterion&#x27;: [&#x27;gini&#x27;, &#x27;entropy&#x27;],\n                                        &#x27;max_depth&#x27;: [1, 2, 3, 4, 5, 6, 7, 8,\n                                                      9]},\n                   scoring=make_scorer(f1_score))</pre><b>In a Jupyter environment, please rerun this cell to show the HTML representation or trust the notebook. <br />On GitHub, the HTML representation is unable to render, please try loading this page with nbviewer.org.</b></div><div class=\"sk-container\" hidden><div class=\"sk-item sk-dashed-wrapped\"><div class=\"sk-label-container\"><div class=\"sk-label sk-toggleable\"><input class=\"sk-toggleable__control sk-hidden--visually\" id=\"sk-estimator-id-7\" type=\"checkbox\" ><label for=\"sk-estimator-id-7\" class=\"sk-toggleable__label sk-toggleable__label-arrow\">RandomizedSearchCV</label><div class=\"sk-toggleable__content\"><pre>RandomizedSearchCV(error_score=&#x27;raise&#x27;, estimator=DecisionTreeClassifier(),\n                   n_iter=30,\n                   param_distributions={&#x27;ccp_alpha&#x27;: array([0.        , 0.00172414, 0.00344828, 0.00517241, 0.00689655,\n       0.00862069, 0.01034483, 0.01206897, 0.0137931 , 0.01551724,\n       0.01724138, 0.01896552, 0.02068966, 0.02241379, 0.02413793,\n       0.02586207, 0.02758621, 0.02931034, 0.03103448, 0.03275862,\n       0.03448276, 0.0362069 , 0.03793103, 0.03965517, 0.04137931,\n       0.04310345, 0.04482759, 0.04655172, 0.04827586, 0.05      ]),\n                                        &#x27;criterion&#x27;: [&#x27;gini&#x27;, &#x27;entropy&#x27;],\n                                        &#x27;max_depth&#x27;: [1, 2, 3, 4, 5, 6, 7, 8,\n                                                      9]},\n                   scoring=make_scorer(f1_score))</pre></div></div></div><div class=\"sk-parallel\"><div class=\"sk-parallel-item\"><div class=\"sk-item\"><div class=\"sk-label-container\"><div class=\"sk-label sk-toggleable\"><input class=\"sk-toggleable__control sk-hidden--visually\" id=\"sk-estimator-id-8\" type=\"checkbox\" ><label for=\"sk-estimator-id-8\" class=\"sk-toggleable__label sk-toggleable__label-arrow\">estimator: DecisionTreeClassifier</label><div class=\"sk-toggleable__content\"><pre>DecisionTreeClassifier()</pre></div></div></div><div class=\"sk-serial\"><div class=\"sk-item\"><div class=\"sk-estimator sk-toggleable\"><input class=\"sk-toggleable__control sk-hidden--visually\" id=\"sk-estimator-id-9\" type=\"checkbox\" ><label for=\"sk-estimator-id-9\" class=\"sk-toggleable__label sk-toggleable__label-arrow\">DecisionTreeClassifier</label><div class=\"sk-toggleable__content\"><pre>DecisionTreeClassifier()</pre></div></div></div></div></div></div></div></div></div></div>"
     },
     "execution_count": 155,
     "metadata": {},
     "output_type": "execute_result"
    }
   ],
   "source": [
    "randomcv = RandomizedSearchCV(estimator=base_tree, param_distributions=params_grid, scoring=scorer_func, n_iter=N_ITERS, error_score='raise')\n",
    "randomcv.fit(x_train, y_train)\n"
   ],
   "metadata": {
    "collapsed": false,
    "pycharm": {
     "name": "#%%\n"
    }
   }
  },
  {
   "cell_type": "code",
   "execution_count": 156,
   "outputs": [
    {
     "name": "stdout",
     "output_type": "stream",
     "text": [
      "Best params: {'max_depth': 9, 'criterion': 'entropy', 'ccp_alpha': 0.01724137931034483}\n",
      "Best score: 1.0\n"
     ]
    }
   ],
   "source": [
    "print(f'Best params: {randomcv.best_params_}')\n",
    "print(f'Best score: {randomcv.best_score_}')"
   ],
   "metadata": {
    "collapsed": false,
    "pycharm": {
     "name": "#%%\n"
    }
   }
  },
  {
   "cell_type": "code",
   "execution_count": 158,
   "outputs": [
    {
     "name": "stdout",
     "output_type": "stream",
     "text": [
      "reservation_status:1.0\n"
     ]
    }
   ],
   "source": [
    "best_tree = randomcv.best_estimator_\n",
    "feat_imps = best_tree.feature_importances_\n",
    "\n",
    "for feature_importance, feature in sorted(zip(feat_imps, list_of_features)):\n",
    "    if feature_importance > 0:\n",
    "        print(f'{feature}:{feature_importance}')"
   ],
   "metadata": {
    "collapsed": false,
    "pycharm": {
     "name": "#%%\n"
    }
   }
  },
  {
   "cell_type": "code",
   "execution_count": null,
   "outputs": [],
   "source": [],
   "metadata": {
    "collapsed": false,
    "pycharm": {
     "name": "#%%\n"
    }
   }
  }
 ],
 "metadata": {
  "kernelspec": {
   "display_name": "Python 3",
   "language": "python",
   "name": "python3"
  },
  "language_info": {
   "codemirror_mode": {
    "name": "ipython",
    "version": 2
   },
   "file_extension": ".py",
   "mimetype": "text/x-python",
   "name": "python",
   "nbconvert_exporter": "python",
   "pygments_lexer": "ipython2",
   "version": "2.7.6"
  }
 },
 "nbformat": 4,
 "nbformat_minor": 0
}